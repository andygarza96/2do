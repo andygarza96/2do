{
 "cells": [
  {
   "cell_type": "code",
   "execution_count": 1,
   "metadata": {},
   "outputs": [],
   "source": [
    "import pandas as pd\n",
    "import numpy as np\n",
    "import matplotlib.pyplot as plt\n",
    "import ast\n",
    "from sklearn.model_selection import train_test_split\n",
    "from sklearn.metrics import mean_squared_error\n",
    "from sklearn import linear_model\n",
    "from sklearn.ensemble import BaggingRegressor\n",
    "from sklearn.ensemble import RandomForestRegressor\n",
    "from sklearn.ensemble import AdaBoostRegressor\n",
    "from sklearn.neural_network import MLPRegressor\n",
    "from sklearn.tree import DecisionTreeRegressor\n",
    "from sklearn.preprocessing import MultiLabelBinarizer,LabelEncoder\n"
   ]
  },
  {
   "cell_type": "code",
   "execution_count": 2,
   "metadata": {},
   "outputs": [],
   "source": [
    "data = pd.read_csv(\"train.csv\")"
   ]
  },
  {
   "cell_type": "code",
   "execution_count": 3,
   "metadata": {},
   "outputs": [
    {
     "data": {
      "text/plain": [
       "(3000, 23)"
      ]
     },
     "execution_count": 3,
     "metadata": {},
     "output_type": "execute_result"
    }
   ],
   "source": [
    "data.shape"
   ]
  },
  {
   "cell_type": "code",
   "execution_count": 4,
   "metadata": {},
   "outputs": [
    {
     "name": "stdout",
     "output_type": "stream",
     "text": [
      "<class 'pandas.core.frame.DataFrame'>\n",
      "RangeIndex: 3000 entries, 0 to 2999\n",
      "Data columns (total 23 columns):\n",
      "id                       3000 non-null int64\n",
      "belongs_to_collection    604 non-null object\n",
      "budget                   3000 non-null int64\n",
      "genres                   2993 non-null object\n",
      "homepage                 946 non-null object\n",
      "imdb_id                  3000 non-null object\n",
      "original_language        3000 non-null object\n",
      "original_title           3000 non-null object\n",
      "overview                 2992 non-null object\n",
      "popularity               3000 non-null float64\n",
      "poster_path              2999 non-null object\n",
      "production_companies     2844 non-null object\n",
      "production_countries     2945 non-null object\n",
      "release_date             3000 non-null object\n",
      "runtime                  2998 non-null float64\n",
      "spoken_languages         2980 non-null object\n",
      "status                   3000 non-null object\n",
      "tagline                  2403 non-null object\n",
      "title                    3000 non-null object\n",
      "Keywords                 2724 non-null object\n",
      "cast                     2987 non-null object\n",
      "crew                     2984 non-null object\n",
      "revenue                  3000 non-null int64\n",
      "dtypes: float64(2), int64(3), object(18)\n",
      "memory usage: 539.1+ KB\n"
     ]
    }
   ],
   "source": [
    "data.info()"
   ]
  },
  {
   "cell_type": "code",
   "execution_count": 5,
   "metadata": {},
   "outputs": [
    {
     "data": {
      "text/html": [
       "<div>\n",
       "<style scoped>\n",
       "    .dataframe tbody tr th:only-of-type {\n",
       "        vertical-align: middle;\n",
       "    }\n",
       "\n",
       "    .dataframe tbody tr th {\n",
       "        vertical-align: top;\n",
       "    }\n",
       "\n",
       "    .dataframe thead th {\n",
       "        text-align: right;\n",
       "    }\n",
       "</style>\n",
       "<table border=\"1\" class=\"dataframe\">\n",
       "  <thead>\n",
       "    <tr style=\"text-align: right;\">\n",
       "      <th></th>\n",
       "      <th>id</th>\n",
       "      <th>belongs_to_collection</th>\n",
       "      <th>budget</th>\n",
       "      <th>genres</th>\n",
       "      <th>homepage</th>\n",
       "      <th>imdb_id</th>\n",
       "      <th>original_language</th>\n",
       "      <th>original_title</th>\n",
       "      <th>overview</th>\n",
       "      <th>popularity</th>\n",
       "      <th>...</th>\n",
       "      <th>release_date</th>\n",
       "      <th>runtime</th>\n",
       "      <th>spoken_languages</th>\n",
       "      <th>status</th>\n",
       "      <th>tagline</th>\n",
       "      <th>title</th>\n",
       "      <th>Keywords</th>\n",
       "      <th>cast</th>\n",
       "      <th>crew</th>\n",
       "      <th>revenue</th>\n",
       "    </tr>\n",
       "  </thead>\n",
       "  <tbody>\n",
       "    <tr>\n",
       "      <th>0</th>\n",
       "      <td>1</td>\n",
       "      <td>[{'id': 313576, 'name': 'Hot Tub Time Machine ...</td>\n",
       "      <td>14000000</td>\n",
       "      <td>[{'id': 35, 'name': 'Comedy'}]</td>\n",
       "      <td>NaN</td>\n",
       "      <td>tt2637294</td>\n",
       "      <td>en</td>\n",
       "      <td>Hot Tub Time Machine 2</td>\n",
       "      <td>When Lou, who has become the \"father of the In...</td>\n",
       "      <td>6.575393</td>\n",
       "      <td>...</td>\n",
       "      <td>2/20/15</td>\n",
       "      <td>93.0</td>\n",
       "      <td>[{'iso_639_1': 'en', 'name': 'English'}]</td>\n",
       "      <td>Released</td>\n",
       "      <td>The Laws of Space and Time are About to be Vio...</td>\n",
       "      <td>Hot Tub Time Machine 2</td>\n",
       "      <td>[{'id': 4379, 'name': 'time travel'}, {'id': 9...</td>\n",
       "      <td>[{'cast_id': 4, 'character': 'Lou', 'credit_id...</td>\n",
       "      <td>[{'credit_id': '59ac067c92514107af02c8c8', 'de...</td>\n",
       "      <td>12314651</td>\n",
       "    </tr>\n",
       "    <tr>\n",
       "      <th>1</th>\n",
       "      <td>2</td>\n",
       "      <td>[{'id': 107674, 'name': 'The Princess Diaries ...</td>\n",
       "      <td>40000000</td>\n",
       "      <td>[{'id': 35, 'name': 'Comedy'}, {'id': 18, 'nam...</td>\n",
       "      <td>NaN</td>\n",
       "      <td>tt0368933</td>\n",
       "      <td>en</td>\n",
       "      <td>The Princess Diaries 2: Royal Engagement</td>\n",
       "      <td>Mia Thermopolis is now a college graduate and ...</td>\n",
       "      <td>8.248895</td>\n",
       "      <td>...</td>\n",
       "      <td>8/6/04</td>\n",
       "      <td>113.0</td>\n",
       "      <td>[{'iso_639_1': 'en', 'name': 'English'}]</td>\n",
       "      <td>Released</td>\n",
       "      <td>It can take a lifetime to find true love; she'...</td>\n",
       "      <td>The Princess Diaries 2: Royal Engagement</td>\n",
       "      <td>[{'id': 2505, 'name': 'coronation'}, {'id': 42...</td>\n",
       "      <td>[{'cast_id': 1, 'character': 'Mia Thermopolis'...</td>\n",
       "      <td>[{'credit_id': '52fe43fe9251416c7502563d', 'de...</td>\n",
       "      <td>95149435</td>\n",
       "    </tr>\n",
       "    <tr>\n",
       "      <th>2</th>\n",
       "      <td>3</td>\n",
       "      <td>NaN</td>\n",
       "      <td>3300000</td>\n",
       "      <td>[{'id': 18, 'name': 'Drama'}]</td>\n",
       "      <td>http://sonyclassics.com/whiplash/</td>\n",
       "      <td>tt2582802</td>\n",
       "      <td>en</td>\n",
       "      <td>Whiplash</td>\n",
       "      <td>Under the direction of a ruthless instructor, ...</td>\n",
       "      <td>64.299990</td>\n",
       "      <td>...</td>\n",
       "      <td>10/10/14</td>\n",
       "      <td>105.0</td>\n",
       "      <td>[{'iso_639_1': 'en', 'name': 'English'}]</td>\n",
       "      <td>Released</td>\n",
       "      <td>The road to greatness can take you to the edge.</td>\n",
       "      <td>Whiplash</td>\n",
       "      <td>[{'id': 1416, 'name': 'jazz'}, {'id': 1523, 'n...</td>\n",
       "      <td>[{'cast_id': 5, 'character': 'Andrew Neimann',...</td>\n",
       "      <td>[{'credit_id': '54d5356ec3a3683ba0000039', 'de...</td>\n",
       "      <td>13092000</td>\n",
       "    </tr>\n",
       "    <tr>\n",
       "      <th>3</th>\n",
       "      <td>4</td>\n",
       "      <td>NaN</td>\n",
       "      <td>1200000</td>\n",
       "      <td>[{'id': 53, 'name': 'Thriller'}, {'id': 18, 'n...</td>\n",
       "      <td>http://kahaanithefilm.com/</td>\n",
       "      <td>tt1821480</td>\n",
       "      <td>hi</td>\n",
       "      <td>Kahaani</td>\n",
       "      <td>Vidya Bagchi (Vidya Balan) arrives in Kolkata ...</td>\n",
       "      <td>3.174936</td>\n",
       "      <td>...</td>\n",
       "      <td>3/9/12</td>\n",
       "      <td>122.0</td>\n",
       "      <td>[{'iso_639_1': 'en', 'name': 'English'}, {'iso...</td>\n",
       "      <td>Released</td>\n",
       "      <td>NaN</td>\n",
       "      <td>Kahaani</td>\n",
       "      <td>[{'id': 10092, 'name': 'mystery'}, {'id': 1054...</td>\n",
       "      <td>[{'cast_id': 1, 'character': 'Vidya Bagchi', '...</td>\n",
       "      <td>[{'credit_id': '52fe48779251416c9108d6eb', 'de...</td>\n",
       "      <td>16000000</td>\n",
       "    </tr>\n",
       "    <tr>\n",
       "      <th>4</th>\n",
       "      <td>5</td>\n",
       "      <td>NaN</td>\n",
       "      <td>0</td>\n",
       "      <td>[{'id': 28, 'name': 'Action'}, {'id': 53, 'nam...</td>\n",
       "      <td>NaN</td>\n",
       "      <td>tt1380152</td>\n",
       "      <td>ko</td>\n",
       "      <td>마린보이</td>\n",
       "      <td>Marine Boy is the story of a former national s...</td>\n",
       "      <td>1.148070</td>\n",
       "      <td>...</td>\n",
       "      <td>2/5/09</td>\n",
       "      <td>118.0</td>\n",
       "      <td>[{'iso_639_1': 'ko', 'name': '한국어/조선말'}]</td>\n",
       "      <td>Released</td>\n",
       "      <td>NaN</td>\n",
       "      <td>Marine Boy</td>\n",
       "      <td>NaN</td>\n",
       "      <td>[{'cast_id': 3, 'character': 'Chun-soo', 'cred...</td>\n",
       "      <td>[{'credit_id': '52fe464b9251416c75073b43', 'de...</td>\n",
       "      <td>3923970</td>\n",
       "    </tr>\n",
       "  </tbody>\n",
       "</table>\n",
       "<p>5 rows × 23 columns</p>\n",
       "</div>"
      ],
      "text/plain": [
       "   id                              belongs_to_collection    budget  \\\n",
       "0   1  [{'id': 313576, 'name': 'Hot Tub Time Machine ...  14000000   \n",
       "1   2  [{'id': 107674, 'name': 'The Princess Diaries ...  40000000   \n",
       "2   3                                                NaN   3300000   \n",
       "3   4                                                NaN   1200000   \n",
       "4   5                                                NaN         0   \n",
       "\n",
       "                                              genres  \\\n",
       "0                     [{'id': 35, 'name': 'Comedy'}]   \n",
       "1  [{'id': 35, 'name': 'Comedy'}, {'id': 18, 'nam...   \n",
       "2                      [{'id': 18, 'name': 'Drama'}]   \n",
       "3  [{'id': 53, 'name': 'Thriller'}, {'id': 18, 'n...   \n",
       "4  [{'id': 28, 'name': 'Action'}, {'id': 53, 'nam...   \n",
       "\n",
       "                            homepage    imdb_id original_language  \\\n",
       "0                                NaN  tt2637294                en   \n",
       "1                                NaN  tt0368933                en   \n",
       "2  http://sonyclassics.com/whiplash/  tt2582802                en   \n",
       "3         http://kahaanithefilm.com/  tt1821480                hi   \n",
       "4                                NaN  tt1380152                ko   \n",
       "\n",
       "                             original_title  \\\n",
       "0                    Hot Tub Time Machine 2   \n",
       "1  The Princess Diaries 2: Royal Engagement   \n",
       "2                                  Whiplash   \n",
       "3                                   Kahaani   \n",
       "4                                      마린보이   \n",
       "\n",
       "                                            overview  popularity  ...  \\\n",
       "0  When Lou, who has become the \"father of the In...    6.575393  ...   \n",
       "1  Mia Thermopolis is now a college graduate and ...    8.248895  ...   \n",
       "2  Under the direction of a ruthless instructor, ...   64.299990  ...   \n",
       "3  Vidya Bagchi (Vidya Balan) arrives in Kolkata ...    3.174936  ...   \n",
       "4  Marine Boy is the story of a former national s...    1.148070  ...   \n",
       "\n",
       "  release_date runtime                                   spoken_languages  \\\n",
       "0      2/20/15    93.0           [{'iso_639_1': 'en', 'name': 'English'}]   \n",
       "1       8/6/04   113.0           [{'iso_639_1': 'en', 'name': 'English'}]   \n",
       "2     10/10/14   105.0           [{'iso_639_1': 'en', 'name': 'English'}]   \n",
       "3       3/9/12   122.0  [{'iso_639_1': 'en', 'name': 'English'}, {'iso...   \n",
       "4       2/5/09   118.0           [{'iso_639_1': 'ko', 'name': '한국어/조선말'}]   \n",
       "\n",
       "     status                                            tagline  \\\n",
       "0  Released  The Laws of Space and Time are About to be Vio...   \n",
       "1  Released  It can take a lifetime to find true love; she'...   \n",
       "2  Released    The road to greatness can take you to the edge.   \n",
       "3  Released                                                NaN   \n",
       "4  Released                                                NaN   \n",
       "\n",
       "                                      title  \\\n",
       "0                    Hot Tub Time Machine 2   \n",
       "1  The Princess Diaries 2: Royal Engagement   \n",
       "2                                  Whiplash   \n",
       "3                                   Kahaani   \n",
       "4                                Marine Boy   \n",
       "\n",
       "                                            Keywords  \\\n",
       "0  [{'id': 4379, 'name': 'time travel'}, {'id': 9...   \n",
       "1  [{'id': 2505, 'name': 'coronation'}, {'id': 42...   \n",
       "2  [{'id': 1416, 'name': 'jazz'}, {'id': 1523, 'n...   \n",
       "3  [{'id': 10092, 'name': 'mystery'}, {'id': 1054...   \n",
       "4                                                NaN   \n",
       "\n",
       "                                                cast  \\\n",
       "0  [{'cast_id': 4, 'character': 'Lou', 'credit_id...   \n",
       "1  [{'cast_id': 1, 'character': 'Mia Thermopolis'...   \n",
       "2  [{'cast_id': 5, 'character': 'Andrew Neimann',...   \n",
       "3  [{'cast_id': 1, 'character': 'Vidya Bagchi', '...   \n",
       "4  [{'cast_id': 3, 'character': 'Chun-soo', 'cred...   \n",
       "\n",
       "                                                crew   revenue  \n",
       "0  [{'credit_id': '59ac067c92514107af02c8c8', 'de...  12314651  \n",
       "1  [{'credit_id': '52fe43fe9251416c7502563d', 'de...  95149435  \n",
       "2  [{'credit_id': '54d5356ec3a3683ba0000039', 'de...  13092000  \n",
       "3  [{'credit_id': '52fe48779251416c9108d6eb', 'de...  16000000  \n",
       "4  [{'credit_id': '52fe464b9251416c75073b43', 'de...   3923970  \n",
       "\n",
       "[5 rows x 23 columns]"
      ]
     },
     "execution_count": 5,
     "metadata": {},
     "output_type": "execute_result"
    }
   ],
   "source": [
    "data.head()"
   ]
  },
  {
   "cell_type": "code",
   "execution_count": 6,
   "metadata": {},
   "outputs": [
    {
     "name": "stdout",
     "output_type": "stream",
     "text": [
      "                       Null Count\n",
      "Feature                          \n",
      "belongs_to_collection        2396\n",
      "homepage                     2054\n",
      "tagline                       597\n",
      "Keywords                      276\n",
      "production_companies          156\n",
      "production_countries           55\n",
      "spoken_languages               20\n",
      "crew                           16\n",
      "cast                           13\n",
      "overview                        8\n",
      "genres                          7\n",
      "runtime                         2\n",
      "poster_path                     1\n",
      "original_language               0\n",
      "budget                          0\n",
      "imdb_id                         0\n",
      "revenue                         0\n",
      "original_title                  0\n",
      "popularity                      0\n",
      "release_date                    0\n",
      "status                          0\n",
      "title                           0\n",
      "id                              0\n"
     ]
    }
   ],
   "source": [
    "nulls = pd.DataFrame(data.isnull().sum().sort_values(ascending=False) [:])\n",
    "nulls.columns = ['Null Count']\n",
    "nulls.index.name = 'Feature'\n",
    "print(nulls)"
   ]
  },
  {
   "cell_type": "code",
   "execution_count": 7,
   "metadata": {},
   "outputs": [
    {
     "name": "stdout",
     "output_type": "stream",
     "text": [
      "El numero de valores unicos es:\n",
      "942\n"
     ]
    }
   ],
   "source": [
    "bid= data.homepage.unique()\n",
    "len(bid)\n",
    "print (\"El numero de valores unicos es:\")\n",
    "print (len(bid))\n"
   ]
  },
  {
   "cell_type": "code",
   "execution_count": 8,
   "metadata": {},
   "outputs": [
    {
     "name": "stdout",
     "output_type": "stream",
     "text": [
      "El numero de valores unicos es:\n",
      "423\n"
     ]
    }
   ],
   "source": [
    "bid= data.belongs_to_collection.unique()\n",
    "len(bid)\n",
    "print (\"El numero de valores unicos es:\")\n",
    "print (len(bid))"
   ]
  },
  {
   "cell_type": "code",
   "execution_count": 9,
   "metadata": {},
   "outputs": [
    {
     "name": "stdout",
     "output_type": "stream",
     "text": [
      "El numero de valores unicos es:\n",
      "3000\n",
      "El Porcentaje de unicos de  es:\n",
      "100\n"
     ]
    }
   ],
   "source": [
    "bid= data.id.unique()\n",
    "len(bid)\n",
    "pbid = (len(bid) * 100) / 3000\n",
    "print (\"El numero de valores unicos es:\")\n",
    "print (len(bid))\n",
    "print(\"El Porcentaje de unicos de  es:\")\n",
    "print (pbid)\n",
    "\n"
   ]
  },
  {
   "cell_type": "code",
   "execution_count": 10,
   "metadata": {},
   "outputs": [
    {
     "name": "stdout",
     "output_type": "stream",
     "text": [
      "El numero de valores unicos es:\n",
      "3000\n",
      "El Porcentaje de unicos de  es:\n",
      "100\n"
     ]
    }
   ],
   "source": [
    "bid= data.imdb_id.unique()\n",
    "len(bid)\n",
    "pbid = (len(bid) * 100) / 3000\n",
    "print (\"El numero de valores unicos es:\")\n",
    "print (len(bid))\n",
    "print(\"El Porcentaje de unicos de  es:\")\n",
    "print (pbid)"
   ]
  },
  {
   "cell_type": "code",
   "execution_count": null,
   "metadata": {},
   "outputs": [],
   "source": []
  },
  {
   "cell_type": "code",
   "execution_count": 11,
   "metadata": {},
   "outputs": [],
   "source": [
    "target = data.revenue"
   ]
  },
  {
   "cell_type": "code",
   "execution_count": 12,
   "metadata": {},
   "outputs": [],
   "source": [
    "data = data.drop([\"id\"], axis = 1)\n",
    "data = data.drop([\"imdb_id\"], axis = 1) "
   ]
  },
  {
   "cell_type": "code",
   "execution_count": 13,
   "metadata": {},
   "outputs": [],
   "source": [
    "data.loc[data[\"homepage\"].notnull(),\"homepage\"]=1\n",
    "data[\"homepage\"]=data[\"homepage\"].fillna(0)\n",
    "\n",
    "data.loc[data[\"belongs_to_collection\"].notnull(),\"belongs_to_collection\"]=1\n",
    "data[\"belongs_to_collection\"]=data[\"belongs_to_collection\"].fillna(0)"
   ]
  },
  {
   "cell_type": "code",
   "execution_count": 14,
   "metadata": {},
   "outputs": [
    {
     "data": {
      "text/html": [
       "<div>\n",
       "<style scoped>\n",
       "    .dataframe tbody tr th:only-of-type {\n",
       "        vertical-align: middle;\n",
       "    }\n",
       "\n",
       "    .dataframe tbody tr th {\n",
       "        vertical-align: top;\n",
       "    }\n",
       "\n",
       "    .dataframe thead th {\n",
       "        text-align: right;\n",
       "    }\n",
       "</style>\n",
       "<table border=\"1\" class=\"dataframe\">\n",
       "  <thead>\n",
       "    <tr style=\"text-align: right;\">\n",
       "      <th></th>\n",
       "      <th>belongs_to_collection</th>\n",
       "      <th>budget</th>\n",
       "      <th>genres</th>\n",
       "      <th>homepage</th>\n",
       "      <th>original_language</th>\n",
       "      <th>original_title</th>\n",
       "      <th>overview</th>\n",
       "      <th>popularity</th>\n",
       "      <th>poster_path</th>\n",
       "      <th>production_companies</th>\n",
       "      <th>...</th>\n",
       "      <th>release_date</th>\n",
       "      <th>runtime</th>\n",
       "      <th>spoken_languages</th>\n",
       "      <th>status</th>\n",
       "      <th>tagline</th>\n",
       "      <th>title</th>\n",
       "      <th>Keywords</th>\n",
       "      <th>cast</th>\n",
       "      <th>crew</th>\n",
       "      <th>revenue</th>\n",
       "    </tr>\n",
       "  </thead>\n",
       "  <tbody>\n",
       "    <tr>\n",
       "      <th>0</th>\n",
       "      <td>1</td>\n",
       "      <td>14000000</td>\n",
       "      <td>[{'id': 35, 'name': 'Comedy'}]</td>\n",
       "      <td>0</td>\n",
       "      <td>en</td>\n",
       "      <td>Hot Tub Time Machine 2</td>\n",
       "      <td>When Lou, who has become the \"father of the In...</td>\n",
       "      <td>6.575393</td>\n",
       "      <td>/tQtWuwvMf0hCc2QR2tkolwl7c3c.jpg</td>\n",
       "      <td>[{'name': 'Paramount Pictures', 'id': 4}, {'na...</td>\n",
       "      <td>...</td>\n",
       "      <td>2/20/15</td>\n",
       "      <td>93.0</td>\n",
       "      <td>[{'iso_639_1': 'en', 'name': 'English'}]</td>\n",
       "      <td>Released</td>\n",
       "      <td>The Laws of Space and Time are About to be Vio...</td>\n",
       "      <td>Hot Tub Time Machine 2</td>\n",
       "      <td>[{'id': 4379, 'name': 'time travel'}, {'id': 9...</td>\n",
       "      <td>[{'cast_id': 4, 'character': 'Lou', 'credit_id...</td>\n",
       "      <td>[{'credit_id': '59ac067c92514107af02c8c8', 'de...</td>\n",
       "      <td>12314651</td>\n",
       "    </tr>\n",
       "    <tr>\n",
       "      <th>1</th>\n",
       "      <td>1</td>\n",
       "      <td>40000000</td>\n",
       "      <td>[{'id': 35, 'name': 'Comedy'}, {'id': 18, 'nam...</td>\n",
       "      <td>0</td>\n",
       "      <td>en</td>\n",
       "      <td>The Princess Diaries 2: Royal Engagement</td>\n",
       "      <td>Mia Thermopolis is now a college graduate and ...</td>\n",
       "      <td>8.248895</td>\n",
       "      <td>/w9Z7A0GHEhIp7etpj0vyKOeU1Wx.jpg</td>\n",
       "      <td>[{'name': 'Walt Disney Pictures', 'id': 2}]</td>\n",
       "      <td>...</td>\n",
       "      <td>8/6/04</td>\n",
       "      <td>113.0</td>\n",
       "      <td>[{'iso_639_1': 'en', 'name': 'English'}]</td>\n",
       "      <td>Released</td>\n",
       "      <td>It can take a lifetime to find true love; she'...</td>\n",
       "      <td>The Princess Diaries 2: Royal Engagement</td>\n",
       "      <td>[{'id': 2505, 'name': 'coronation'}, {'id': 42...</td>\n",
       "      <td>[{'cast_id': 1, 'character': 'Mia Thermopolis'...</td>\n",
       "      <td>[{'credit_id': '52fe43fe9251416c7502563d', 'de...</td>\n",
       "      <td>95149435</td>\n",
       "    </tr>\n",
       "    <tr>\n",
       "      <th>2</th>\n",
       "      <td>0</td>\n",
       "      <td>3300000</td>\n",
       "      <td>[{'id': 18, 'name': 'Drama'}]</td>\n",
       "      <td>1</td>\n",
       "      <td>en</td>\n",
       "      <td>Whiplash</td>\n",
       "      <td>Under the direction of a ruthless instructor, ...</td>\n",
       "      <td>64.299990</td>\n",
       "      <td>/lIv1QinFqz4dlp5U4lQ6HaiskOZ.jpg</td>\n",
       "      <td>[{'name': 'Bold Films', 'id': 2266}, {'name': ...</td>\n",
       "      <td>...</td>\n",
       "      <td>10/10/14</td>\n",
       "      <td>105.0</td>\n",
       "      <td>[{'iso_639_1': 'en', 'name': 'English'}]</td>\n",
       "      <td>Released</td>\n",
       "      <td>The road to greatness can take you to the edge.</td>\n",
       "      <td>Whiplash</td>\n",
       "      <td>[{'id': 1416, 'name': 'jazz'}, {'id': 1523, 'n...</td>\n",
       "      <td>[{'cast_id': 5, 'character': 'Andrew Neimann',...</td>\n",
       "      <td>[{'credit_id': '54d5356ec3a3683ba0000039', 'de...</td>\n",
       "      <td>13092000</td>\n",
       "    </tr>\n",
       "    <tr>\n",
       "      <th>3</th>\n",
       "      <td>0</td>\n",
       "      <td>1200000</td>\n",
       "      <td>[{'id': 53, 'name': 'Thriller'}, {'id': 18, 'n...</td>\n",
       "      <td>1</td>\n",
       "      <td>hi</td>\n",
       "      <td>Kahaani</td>\n",
       "      <td>Vidya Bagchi (Vidya Balan) arrives in Kolkata ...</td>\n",
       "      <td>3.174936</td>\n",
       "      <td>/aTXRaPrWSinhcmCrcfJK17urp3F.jpg</td>\n",
       "      <td>NaN</td>\n",
       "      <td>...</td>\n",
       "      <td>3/9/12</td>\n",
       "      <td>122.0</td>\n",
       "      <td>[{'iso_639_1': 'en', 'name': 'English'}, {'iso...</td>\n",
       "      <td>Released</td>\n",
       "      <td>NaN</td>\n",
       "      <td>Kahaani</td>\n",
       "      <td>[{'id': 10092, 'name': 'mystery'}, {'id': 1054...</td>\n",
       "      <td>[{'cast_id': 1, 'character': 'Vidya Bagchi', '...</td>\n",
       "      <td>[{'credit_id': '52fe48779251416c9108d6eb', 'de...</td>\n",
       "      <td>16000000</td>\n",
       "    </tr>\n",
       "    <tr>\n",
       "      <th>4</th>\n",
       "      <td>0</td>\n",
       "      <td>0</td>\n",
       "      <td>[{'id': 28, 'name': 'Action'}, {'id': 53, 'nam...</td>\n",
       "      <td>0</td>\n",
       "      <td>ko</td>\n",
       "      <td>마린보이</td>\n",
       "      <td>Marine Boy is the story of a former national s...</td>\n",
       "      <td>1.148070</td>\n",
       "      <td>/m22s7zvkVFDU9ir56PiiqIEWFdT.jpg</td>\n",
       "      <td>NaN</td>\n",
       "      <td>...</td>\n",
       "      <td>2/5/09</td>\n",
       "      <td>118.0</td>\n",
       "      <td>[{'iso_639_1': 'ko', 'name': '한국어/조선말'}]</td>\n",
       "      <td>Released</td>\n",
       "      <td>NaN</td>\n",
       "      <td>Marine Boy</td>\n",
       "      <td>NaN</td>\n",
       "      <td>[{'cast_id': 3, 'character': 'Chun-soo', 'cred...</td>\n",
       "      <td>[{'credit_id': '52fe464b9251416c75073b43', 'de...</td>\n",
       "      <td>3923970</td>\n",
       "    </tr>\n",
       "  </tbody>\n",
       "</table>\n",
       "<p>5 rows × 21 columns</p>\n",
       "</div>"
      ],
      "text/plain": [
       "   belongs_to_collection    budget  \\\n",
       "0                      1  14000000   \n",
       "1                      1  40000000   \n",
       "2                      0   3300000   \n",
       "3                      0   1200000   \n",
       "4                      0         0   \n",
       "\n",
       "                                              genres  homepage  \\\n",
       "0                     [{'id': 35, 'name': 'Comedy'}]         0   \n",
       "1  [{'id': 35, 'name': 'Comedy'}, {'id': 18, 'nam...         0   \n",
       "2                      [{'id': 18, 'name': 'Drama'}]         1   \n",
       "3  [{'id': 53, 'name': 'Thriller'}, {'id': 18, 'n...         1   \n",
       "4  [{'id': 28, 'name': 'Action'}, {'id': 53, 'nam...         0   \n",
       "\n",
       "  original_language                            original_title  \\\n",
       "0                en                    Hot Tub Time Machine 2   \n",
       "1                en  The Princess Diaries 2: Royal Engagement   \n",
       "2                en                                  Whiplash   \n",
       "3                hi                                   Kahaani   \n",
       "4                ko                                      마린보이   \n",
       "\n",
       "                                            overview  popularity  \\\n",
       "0  When Lou, who has become the \"father of the In...    6.575393   \n",
       "1  Mia Thermopolis is now a college graduate and ...    8.248895   \n",
       "2  Under the direction of a ruthless instructor, ...   64.299990   \n",
       "3  Vidya Bagchi (Vidya Balan) arrives in Kolkata ...    3.174936   \n",
       "4  Marine Boy is the story of a former national s...    1.148070   \n",
       "\n",
       "                        poster_path  \\\n",
       "0  /tQtWuwvMf0hCc2QR2tkolwl7c3c.jpg   \n",
       "1  /w9Z7A0GHEhIp7etpj0vyKOeU1Wx.jpg   \n",
       "2  /lIv1QinFqz4dlp5U4lQ6HaiskOZ.jpg   \n",
       "3  /aTXRaPrWSinhcmCrcfJK17urp3F.jpg   \n",
       "4  /m22s7zvkVFDU9ir56PiiqIEWFdT.jpg   \n",
       "\n",
       "                                production_companies  ... release_date  \\\n",
       "0  [{'name': 'Paramount Pictures', 'id': 4}, {'na...  ...      2/20/15   \n",
       "1        [{'name': 'Walt Disney Pictures', 'id': 2}]  ...       8/6/04   \n",
       "2  [{'name': 'Bold Films', 'id': 2266}, {'name': ...  ...     10/10/14   \n",
       "3                                                NaN  ...       3/9/12   \n",
       "4                                                NaN  ...       2/5/09   \n",
       "\n",
       "  runtime                                   spoken_languages    status  \\\n",
       "0    93.0           [{'iso_639_1': 'en', 'name': 'English'}]  Released   \n",
       "1   113.0           [{'iso_639_1': 'en', 'name': 'English'}]  Released   \n",
       "2   105.0           [{'iso_639_1': 'en', 'name': 'English'}]  Released   \n",
       "3   122.0  [{'iso_639_1': 'en', 'name': 'English'}, {'iso...  Released   \n",
       "4   118.0           [{'iso_639_1': 'ko', 'name': '한국어/조선말'}]  Released   \n",
       "\n",
       "                                             tagline  \\\n",
       "0  The Laws of Space and Time are About to be Vio...   \n",
       "1  It can take a lifetime to find true love; she'...   \n",
       "2    The road to greatness can take you to the edge.   \n",
       "3                                                NaN   \n",
       "4                                                NaN   \n",
       "\n",
       "                                      title  \\\n",
       "0                    Hot Tub Time Machine 2   \n",
       "1  The Princess Diaries 2: Royal Engagement   \n",
       "2                                  Whiplash   \n",
       "3                                   Kahaani   \n",
       "4                                Marine Boy   \n",
       "\n",
       "                                            Keywords  \\\n",
       "0  [{'id': 4379, 'name': 'time travel'}, {'id': 9...   \n",
       "1  [{'id': 2505, 'name': 'coronation'}, {'id': 42...   \n",
       "2  [{'id': 1416, 'name': 'jazz'}, {'id': 1523, 'n...   \n",
       "3  [{'id': 10092, 'name': 'mystery'}, {'id': 1054...   \n",
       "4                                                NaN   \n",
       "\n",
       "                                                cast  \\\n",
       "0  [{'cast_id': 4, 'character': 'Lou', 'credit_id...   \n",
       "1  [{'cast_id': 1, 'character': 'Mia Thermopolis'...   \n",
       "2  [{'cast_id': 5, 'character': 'Andrew Neimann',...   \n",
       "3  [{'cast_id': 1, 'character': 'Vidya Bagchi', '...   \n",
       "4  [{'cast_id': 3, 'character': 'Chun-soo', 'cred...   \n",
       "\n",
       "                                                crew   revenue  \n",
       "0  [{'credit_id': '59ac067c92514107af02c8c8', 'de...  12314651  \n",
       "1  [{'credit_id': '52fe43fe9251416c7502563d', 'de...  95149435  \n",
       "2  [{'credit_id': '54d5356ec3a3683ba0000039', 'de...  13092000  \n",
       "3  [{'credit_id': '52fe48779251416c9108d6eb', 'de...  16000000  \n",
       "4  [{'credit_id': '52fe464b9251416c75073b43', 'de...   3923970  \n",
       "\n",
       "[5 rows x 21 columns]"
      ]
     },
     "execution_count": 14,
     "metadata": {},
     "output_type": "execute_result"
    }
   ],
   "source": [
    "data.head()"
   ]
  },
  {
   "cell_type": "code",
   "execution_count": 15,
   "metadata": {},
   "outputs": [],
   "source": [
    "mlb = MultiLabelBinarizer()"
   ]
  },
  {
   "cell_type": "code",
   "execution_count": 16,
   "metadata": {},
   "outputs": [],
   "source": [
    "def convertStringToList(strVal):\n",
    "    if type(strVal) is not str:\n",
    "        return  []\n",
    "    else:\n",
    "        return ast.literal_eval(strVal)"
   ]
  },
  {
   "cell_type": "code",
   "execution_count": 17,
   "metadata": {},
   "outputs": [],
   "source": [
    "def formatDictColumnAndExtractNames(strVal):\n",
    "    listOfItems = convertStringToList(strVal)\n",
    "    return list(map(lambda x: x['name'], listOfItems))"
   ]
  },
  {
   "cell_type": "code",
   "execution_count": 18,
   "metadata": {},
   "outputs": [],
   "source": [
    "def extractGenres(data):\n",
    "    data['genres'] = data['genres'].apply(formatDictColumnAndExtractNames)\n",
    "\n",
    "    return data.join(pd.DataFrame(mlb.fit_transform(data.pop('genres')),\n",
    "                          columns=list(map(lambda x: 'genre_'+x,mlb.classes_)),\n",
    "                          index=data.index))"
   ]
  },
  {
   "cell_type": "code",
   "execution_count": 19,
   "metadata": {},
   "outputs": [],
   "source": [
    "data = extractGenres(data)"
   ]
  },
  {
   "cell_type": "code",
   "execution_count": 20,
   "metadata": {},
   "outputs": [
    {
     "name": "stdout",
     "output_type": "stream",
     "text": [
      "<class 'pandas.core.frame.DataFrame'>\n",
      "RangeIndex: 3000 entries, 0 to 2999\n",
      "Data columns (total 40 columns):\n",
      "belongs_to_collection    3000 non-null int64\n",
      "budget                   3000 non-null int64\n",
      "homepage                 3000 non-null int64\n",
      "original_language        3000 non-null object\n",
      "original_title           3000 non-null object\n",
      "overview                 2992 non-null object\n",
      "popularity               3000 non-null float64\n",
      "poster_path              2999 non-null object\n",
      "production_companies     2844 non-null object\n",
      "production_countries     2945 non-null object\n",
      "release_date             3000 non-null object\n",
      "runtime                  2998 non-null float64\n",
      "spoken_languages         2980 non-null object\n",
      "status                   3000 non-null object\n",
      "tagline                  2403 non-null object\n",
      "title                    3000 non-null object\n",
      "Keywords                 2724 non-null object\n",
      "cast                     2987 non-null object\n",
      "crew                     2984 non-null object\n",
      "revenue                  3000 non-null int64\n",
      "genre_Action             3000 non-null int64\n",
      "genre_Adventure          3000 non-null int64\n",
      "genre_Animation          3000 non-null int64\n",
      "genre_Comedy             3000 non-null int64\n",
      "genre_Crime              3000 non-null int64\n",
      "genre_Documentary        3000 non-null int64\n",
      "genre_Drama              3000 non-null int64\n",
      "genre_Family             3000 non-null int64\n",
      "genre_Fantasy            3000 non-null int64\n",
      "genre_Foreign            3000 non-null int64\n",
      "genre_History            3000 non-null int64\n",
      "genre_Horror             3000 non-null int64\n",
      "genre_Music              3000 non-null int64\n",
      "genre_Mystery            3000 non-null int64\n",
      "genre_Romance            3000 non-null int64\n",
      "genre_Science Fiction    3000 non-null int64\n",
      "genre_TV Movie           3000 non-null int64\n",
      "genre_Thriller           3000 non-null int64\n",
      "genre_War                3000 non-null int64\n",
      "genre_Western            3000 non-null int64\n",
      "dtypes: float64(2), int64(24), object(14)\n",
      "memory usage: 937.6+ KB\n"
     ]
    }
   ],
   "source": [
    "data.info()"
   ]
  },
  {
   "cell_type": "code",
   "execution_count": 21,
   "metadata": {},
   "outputs": [
    {
     "data": {
      "text/html": [
       "<div>\n",
       "<style scoped>\n",
       "    .dataframe tbody tr th:only-of-type {\n",
       "        vertical-align: middle;\n",
       "    }\n",
       "\n",
       "    .dataframe tbody tr th {\n",
       "        vertical-align: top;\n",
       "    }\n",
       "\n",
       "    .dataframe thead th {\n",
       "        text-align: right;\n",
       "    }\n",
       "</style>\n",
       "<table border=\"1\" class=\"dataframe\">\n",
       "  <thead>\n",
       "    <tr style=\"text-align: right;\">\n",
       "      <th></th>\n",
       "      <th>belongs_to_collection</th>\n",
       "      <th>budget</th>\n",
       "      <th>homepage</th>\n",
       "      <th>original_language</th>\n",
       "      <th>original_title</th>\n",
       "      <th>overview</th>\n",
       "      <th>popularity</th>\n",
       "      <th>poster_path</th>\n",
       "      <th>production_companies</th>\n",
       "      <th>production_countries</th>\n",
       "      <th>...</th>\n",
       "      <th>genre_History</th>\n",
       "      <th>genre_Horror</th>\n",
       "      <th>genre_Music</th>\n",
       "      <th>genre_Mystery</th>\n",
       "      <th>genre_Romance</th>\n",
       "      <th>genre_Science Fiction</th>\n",
       "      <th>genre_TV Movie</th>\n",
       "      <th>genre_Thriller</th>\n",
       "      <th>genre_War</th>\n",
       "      <th>genre_Western</th>\n",
       "    </tr>\n",
       "  </thead>\n",
       "  <tbody>\n",
       "    <tr>\n",
       "      <th>0</th>\n",
       "      <td>1</td>\n",
       "      <td>14000000</td>\n",
       "      <td>0</td>\n",
       "      <td>en</td>\n",
       "      <td>Hot Tub Time Machine 2</td>\n",
       "      <td>When Lou, who has become the \"father of the In...</td>\n",
       "      <td>6.575393</td>\n",
       "      <td>/tQtWuwvMf0hCc2QR2tkolwl7c3c.jpg</td>\n",
       "      <td>[{'name': 'Paramount Pictures', 'id': 4}, {'na...</td>\n",
       "      <td>[{'iso_3166_1': 'US', 'name': 'United States o...</td>\n",
       "      <td>...</td>\n",
       "      <td>0</td>\n",
       "      <td>0</td>\n",
       "      <td>0</td>\n",
       "      <td>0</td>\n",
       "      <td>0</td>\n",
       "      <td>0</td>\n",
       "      <td>0</td>\n",
       "      <td>0</td>\n",
       "      <td>0</td>\n",
       "      <td>0</td>\n",
       "    </tr>\n",
       "    <tr>\n",
       "      <th>1</th>\n",
       "      <td>1</td>\n",
       "      <td>40000000</td>\n",
       "      <td>0</td>\n",
       "      <td>en</td>\n",
       "      <td>The Princess Diaries 2: Royal Engagement</td>\n",
       "      <td>Mia Thermopolis is now a college graduate and ...</td>\n",
       "      <td>8.248895</td>\n",
       "      <td>/w9Z7A0GHEhIp7etpj0vyKOeU1Wx.jpg</td>\n",
       "      <td>[{'name': 'Walt Disney Pictures', 'id': 2}]</td>\n",
       "      <td>[{'iso_3166_1': 'US', 'name': 'United States o...</td>\n",
       "      <td>...</td>\n",
       "      <td>0</td>\n",
       "      <td>0</td>\n",
       "      <td>0</td>\n",
       "      <td>0</td>\n",
       "      <td>1</td>\n",
       "      <td>0</td>\n",
       "      <td>0</td>\n",
       "      <td>0</td>\n",
       "      <td>0</td>\n",
       "      <td>0</td>\n",
       "    </tr>\n",
       "    <tr>\n",
       "      <th>2</th>\n",
       "      <td>0</td>\n",
       "      <td>3300000</td>\n",
       "      <td>1</td>\n",
       "      <td>en</td>\n",
       "      <td>Whiplash</td>\n",
       "      <td>Under the direction of a ruthless instructor, ...</td>\n",
       "      <td>64.299990</td>\n",
       "      <td>/lIv1QinFqz4dlp5U4lQ6HaiskOZ.jpg</td>\n",
       "      <td>[{'name': 'Bold Films', 'id': 2266}, {'name': ...</td>\n",
       "      <td>[{'iso_3166_1': 'US', 'name': 'United States o...</td>\n",
       "      <td>...</td>\n",
       "      <td>0</td>\n",
       "      <td>0</td>\n",
       "      <td>0</td>\n",
       "      <td>0</td>\n",
       "      <td>0</td>\n",
       "      <td>0</td>\n",
       "      <td>0</td>\n",
       "      <td>0</td>\n",
       "      <td>0</td>\n",
       "      <td>0</td>\n",
       "    </tr>\n",
       "    <tr>\n",
       "      <th>3</th>\n",
       "      <td>0</td>\n",
       "      <td>1200000</td>\n",
       "      <td>1</td>\n",
       "      <td>hi</td>\n",
       "      <td>Kahaani</td>\n",
       "      <td>Vidya Bagchi (Vidya Balan) arrives in Kolkata ...</td>\n",
       "      <td>3.174936</td>\n",
       "      <td>/aTXRaPrWSinhcmCrcfJK17urp3F.jpg</td>\n",
       "      <td>NaN</td>\n",
       "      <td>[{'iso_3166_1': 'IN', 'name': 'India'}]</td>\n",
       "      <td>...</td>\n",
       "      <td>0</td>\n",
       "      <td>0</td>\n",
       "      <td>0</td>\n",
       "      <td>0</td>\n",
       "      <td>0</td>\n",
       "      <td>0</td>\n",
       "      <td>0</td>\n",
       "      <td>1</td>\n",
       "      <td>0</td>\n",
       "      <td>0</td>\n",
       "    </tr>\n",
       "    <tr>\n",
       "      <th>4</th>\n",
       "      <td>0</td>\n",
       "      <td>0</td>\n",
       "      <td>0</td>\n",
       "      <td>ko</td>\n",
       "      <td>마린보이</td>\n",
       "      <td>Marine Boy is the story of a former national s...</td>\n",
       "      <td>1.148070</td>\n",
       "      <td>/m22s7zvkVFDU9ir56PiiqIEWFdT.jpg</td>\n",
       "      <td>NaN</td>\n",
       "      <td>[{'iso_3166_1': 'KR', 'name': 'South Korea'}]</td>\n",
       "      <td>...</td>\n",
       "      <td>0</td>\n",
       "      <td>0</td>\n",
       "      <td>0</td>\n",
       "      <td>0</td>\n",
       "      <td>0</td>\n",
       "      <td>0</td>\n",
       "      <td>0</td>\n",
       "      <td>1</td>\n",
       "      <td>0</td>\n",
       "      <td>0</td>\n",
       "    </tr>\n",
       "  </tbody>\n",
       "</table>\n",
       "<p>5 rows × 40 columns</p>\n",
       "</div>"
      ],
      "text/plain": [
       "   belongs_to_collection    budget  homepage original_language  \\\n",
       "0                      1  14000000         0                en   \n",
       "1                      1  40000000         0                en   \n",
       "2                      0   3300000         1                en   \n",
       "3                      0   1200000         1                hi   \n",
       "4                      0         0         0                ko   \n",
       "\n",
       "                             original_title  \\\n",
       "0                    Hot Tub Time Machine 2   \n",
       "1  The Princess Diaries 2: Royal Engagement   \n",
       "2                                  Whiplash   \n",
       "3                                   Kahaani   \n",
       "4                                      마린보이   \n",
       "\n",
       "                                            overview  popularity  \\\n",
       "0  When Lou, who has become the \"father of the In...    6.575393   \n",
       "1  Mia Thermopolis is now a college graduate and ...    8.248895   \n",
       "2  Under the direction of a ruthless instructor, ...   64.299990   \n",
       "3  Vidya Bagchi (Vidya Balan) arrives in Kolkata ...    3.174936   \n",
       "4  Marine Boy is the story of a former national s...    1.148070   \n",
       "\n",
       "                        poster_path  \\\n",
       "0  /tQtWuwvMf0hCc2QR2tkolwl7c3c.jpg   \n",
       "1  /w9Z7A0GHEhIp7etpj0vyKOeU1Wx.jpg   \n",
       "2  /lIv1QinFqz4dlp5U4lQ6HaiskOZ.jpg   \n",
       "3  /aTXRaPrWSinhcmCrcfJK17urp3F.jpg   \n",
       "4  /m22s7zvkVFDU9ir56PiiqIEWFdT.jpg   \n",
       "\n",
       "                                production_companies  \\\n",
       "0  [{'name': 'Paramount Pictures', 'id': 4}, {'na...   \n",
       "1        [{'name': 'Walt Disney Pictures', 'id': 2}]   \n",
       "2  [{'name': 'Bold Films', 'id': 2266}, {'name': ...   \n",
       "3                                                NaN   \n",
       "4                                                NaN   \n",
       "\n",
       "                                production_countries  ... genre_History  \\\n",
       "0  [{'iso_3166_1': 'US', 'name': 'United States o...  ...             0   \n",
       "1  [{'iso_3166_1': 'US', 'name': 'United States o...  ...             0   \n",
       "2  [{'iso_3166_1': 'US', 'name': 'United States o...  ...             0   \n",
       "3            [{'iso_3166_1': 'IN', 'name': 'India'}]  ...             0   \n",
       "4      [{'iso_3166_1': 'KR', 'name': 'South Korea'}]  ...             0   \n",
       "\n",
       "   genre_Horror genre_Music genre_Mystery genre_Romance genre_Science Fiction  \\\n",
       "0             0           0             0             0                     0   \n",
       "1             0           0             0             1                     0   \n",
       "2             0           0             0             0                     0   \n",
       "3             0           0             0             0                     0   \n",
       "4             0           0             0             0                     0   \n",
       "\n",
       "  genre_TV Movie genre_Thriller genre_War  genre_Western  \n",
       "0              0              0         0              0  \n",
       "1              0              0         0              0  \n",
       "2              0              0         0              0  \n",
       "3              0              1         0              0  \n",
       "4              0              1         0              0  \n",
       "\n",
       "[5 rows x 40 columns]"
      ]
     },
     "execution_count": 21,
     "metadata": {},
     "output_type": "execute_result"
    }
   ],
   "source": [
    "data.head()"
   ]
  },
  {
   "cell_type": "code",
   "execution_count": 22,
   "metadata": {},
   "outputs": [],
   "source": [
    "data[\"runtime\"]= data[\"runtime\"].fillna(data[\"runtime\"].mean())"
   ]
  },
  {
   "cell_type": "code",
   "execution_count": 23,
   "metadata": {},
   "outputs": [],
   "source": [
    "data.loc[data[\"cast\"].notnull(),\"cast\"]=data.loc[data[\"cast\"].notnull(),\"cast\"].apply(lambda x : ast.literal_eval(x))\n",
    "data.loc[data[\"crew\"].notnull(),\"crew\"]=data.loc[data[\"crew\"].notnull(),\"crew\"].apply(lambda x : ast.literal_eval(x))"
   ]
  },
  {
   "cell_type": "code",
   "execution_count": 24,
   "metadata": {},
   "outputs": [],
   "source": [
    "features_to_fix=[\"production_companies\", \"production_countries\",\"Keywords\"]\n",
    "\n",
    "for feature in features_to_fix:\n",
    "    data.loc[data[feature].notnull(),feature]=\\\n",
    "    data.loc[data[feature].notnull(),feature].apply(lambda x : ast.literal_eval(x))\\\n",
    "    .apply(lambda x : [y[\"name\"] for y in x])"
   ]
  },
  {
   "cell_type": "code",
   "execution_count": 25,
   "metadata": {},
   "outputs": [],
   "source": [
    "data[\"cast_len\"] = data.loc[data[\"cast\"].notnull(),\"cast\"].apply(lambda x : len(x))\n",
    "data[\"crew_len\"] = data.loc[data[\"crew\"].notnull(),\"crew\"].apply(lambda x : len(x))\n",
    "\n",
    "data[\"production_companies_len\"]=data.loc[data[\"production_companies\"].notnull(),\"production_companies\"]\\\n",
    ".apply(lambda x : len(x))\n",
    "\n",
    "data[\"production_countries_len\"]=data.loc[data[\"production_countries\"].notnull(),\"production_countries\"]\\\n",
    ".apply(lambda x : len(x))\n",
    "\n",
    "data[\"Keywords_len\"]=data.loc[data[\"Keywords\"].notnull(),\"Keywords\"].apply(lambda x : len(x))\n",
    "\n",
    "data['original_title_letter_count'] = data['original_title'].str.len() \n",
    "data['original_title_word_count'] = data['original_title'].str.split().str.len() \n",
    "data['title_word_count'] = data['title'].str.split().str.len()\n",
    "data['overview_word_count'] = data['overview'].str.split().str.len()\n",
    "data['tagline_word_count'] = data['tagline'].str.split().str.len()"
   ]
  },
  {
   "cell_type": "code",
   "execution_count": 26,
   "metadata": {},
   "outputs": [],
   "source": [
    "data[\"has_tagline\"]=1\n",
    "data.loc[data[\"tagline\"].isnull(),\"has_tagline\"]=0\n",
    "\n",
    "data[\"title_different\"]=1\n",
    "data.loc[data[\"title\"]==data[\"original_title\"],\"title_different\"]=0\n",
    "\n",
    "data[\"isReleased\"]=1\n",
    "data.loc[data[\"status\"]!=\"Released\",\"isReleased\"]=0"
   ]
  },
  {
   "cell_type": "code",
   "execution_count": 27,
   "metadata": {},
   "outputs": [],
   "source": [
    "release_date=pd.to_datetime(data[\"release_date\"])\n",
    "data[\"release_year\"]=release_date.dt.year\n",
    "data[\"release_month\"]=release_date.dt.month\n",
    "data[\"release_day\"]=release_date.dt.day\n",
    "data[\"release_wd\"]=release_date.dt.dayofweek\n",
    "data[\"release_quarter\"]=release_date.dt.quarter"
   ]
  },
  {
   "cell_type": "code",
   "execution_count": 28,
   "metadata": {},
   "outputs": [],
   "source": [
    "data.loc[data[\"cast\"].notnull(),\"cast\"]=data.loc[data[\"cast\"].notnull(),\"cast\"]\\\n",
    ".apply(lambda x : [y[\"name\"] for y in x if y[\"order\"]<6]) "
   ]
  },
  {
   "cell_type": "code",
   "execution_count": 29,
   "metadata": {},
   "outputs": [],
   "source": [
    "data[\"Director\"]=[[] for i in range(data.shape[0])]\n",
    "data[\"Producer\"]=[[] for i in range(data.shape[0])]\n",
    "data[\"Executive Producer\"]=[[] for i in range(data.shape[0])]\n",
    "\n",
    "data[\"Director\"]=data.loc[data[\"crew\"].notnull(),\"crew\"]\\\n",
    ".apply(lambda x : [y[\"name\"] for y in x if y[\"job\"]==\"Director\"])\n",
    "\n",
    "data[\"Producer\"]=data.loc[data[\"crew\"].notnull(),\"crew\"]\\\n",
    ".apply(lambda x : [y[\"name\"] for y in x if y[\"job\"]==\"Producer\"])\n",
    "\n",
    "data[\"Executive Producer\"]=data.loc[data[\"crew\"].notnull(),\"crew\"]\\\n",
    ".apply(lambda x : [y[\"name\"] for y in x if y[\"job\"]==\"Executive Producer\"])"
   ]
  },
  {
   "cell_type": "code",
   "execution_count": 30,
   "metadata": {},
   "outputs": [],
   "source": [
    "data=data.drop([\"original_title\",\"overview\",\"poster_path\",\"tagline\",\"status\",\"title\",\\\n",
    "           \"spoken_languages\",\"release_date\",\"crew\"],axis=1)"
   ]
  },
  {
   "cell_type": "code",
   "execution_count": 31,
   "metadata": {},
   "outputs": [
    {
     "name": "stdout",
     "output_type": "stream",
     "text": [
      "                             Null Count\n",
      "Feature                                \n",
      "tagline_word_count                  597\n",
      "Keywords                            276\n",
      "Keywords_len                        276\n",
      "production_companies_len            156\n",
      "production_companies                156\n",
      "production_countries                 55\n",
      "production_countries_len             55\n",
      "crew_len                             16\n",
      "Executive Producer                   16\n",
      "Producer                             16\n",
      "Director                             16\n",
      "cast                                 13\n",
      "cast_len                             13\n",
      "overview_word_count                   8\n",
      "genre_Crime                           0\n",
      "genre_Adventure                       0\n",
      "genre_Documentary                     0\n",
      "genre_Comedy                          0\n",
      "genre_Animation                       0\n",
      "genre_Drama                           0\n",
      "genre_Family                          0\n",
      "genre_Action                          0\n",
      "genre_Foreign                         0\n",
      "revenue                               0\n",
      "runtime                               0\n",
      "popularity                            0\n",
      "original_language                     0\n",
      "homepage                              0\n",
      "budget                                0\n",
      "genre_Fantasy                         0\n",
      "genre_Romance                         0\n",
      "genre_History                         0\n",
      "title_word_count                      0\n",
      "release_quarter                       0\n",
      "release_wd                            0\n",
      "release_day                           0\n",
      "release_month                         0\n",
      "release_year                          0\n",
      "isReleased                            0\n",
      "title_different                       0\n",
      "has_tagline                           0\n",
      "original_title_word_count             0\n",
      "genre_Horror                          0\n",
      "original_title_letter_count           0\n",
      "genre_Western                         0\n",
      "genre_War                             0\n",
      "genre_Thriller                        0\n",
      "genre_TV Movie                        0\n",
      "genre_Science Fiction                 0\n",
      "genre_Mystery                         0\n",
      "genre_Music                           0\n",
      "belongs_to_collection                 0\n"
     ]
    }
   ],
   "source": [
    "nulls = pd.DataFrame(data.isnull().sum().sort_values(ascending=False) [:])\n",
    "nulls.columns = ['Null Count']\n",
    "nulls.index.name = 'Feature'\n",
    "print(nulls)"
   ]
  },
  {
   "cell_type": "code",
   "execution_count": 32,
   "metadata": {},
   "outputs": [],
   "source": [
    "to_empty_list=[\"Keywords\",\"production_companies\",\"production_countries\",\\\n",
    "              \"Director\",\"Producer\",\"Executive Producer\",\"cast\"]\n",
    "\n",
    "for feature in to_empty_list:\n",
    "    data[feature] = data[feature].apply(lambda d: d if isinstance(d, list) else [])"
   ]
  },
  {
   "cell_type": "code",
   "execution_count": 33,
   "metadata": {},
   "outputs": [],
   "source": [
    "to_zero=[\"Keywords_len\",\"production_companies_len\",\"production_countries_len\",\"crew_len\",\"cast_len\",\n",
    "    \"tagline_word_count\",\"overview_word_count\",\"title_word_count\"]\n",
    "\n",
    "for feat in to_zero:\n",
    "    data[feat]=data[feat].fillna(0)\n"
   ]
  },
  {
   "cell_type": "code",
   "execution_count": 34,
   "metadata": {},
   "outputs": [],
   "source": [
    "data['_budget_popularity_ratio'] = data['budget']/data['popularity']\n",
    "data['_releaseYear_popularity_ratio'] = data['release_year']/data['popularity']\n",
    "data['_releaseYear_popularity_ratio2'] = data['popularity']/data['release_year']"
   ]
  },
  {
   "cell_type": "code",
   "execution_count": 35,
   "metadata": {},
   "outputs": [
    {
     "name": "stdout",
     "output_type": "stream",
     "text": [
      "<class 'pandas.core.frame.DataFrame'>\n",
      "RangeIndex: 3000 entries, 0 to 2999\n",
      "Data columns (total 55 columns):\n",
      "belongs_to_collection             3000 non-null int64\n",
      "budget                            3000 non-null int64\n",
      "homepage                          3000 non-null int64\n",
      "original_language                 3000 non-null object\n",
      "popularity                        3000 non-null float64\n",
      "production_companies              3000 non-null object\n",
      "production_countries              3000 non-null object\n",
      "runtime                           3000 non-null float64\n",
      "Keywords                          3000 non-null object\n",
      "cast                              3000 non-null object\n",
      "revenue                           3000 non-null int64\n",
      "genre_Action                      3000 non-null int64\n",
      "genre_Adventure                   3000 non-null int64\n",
      "genre_Animation                   3000 non-null int64\n",
      "genre_Comedy                      3000 non-null int64\n",
      "genre_Crime                       3000 non-null int64\n",
      "genre_Documentary                 3000 non-null int64\n",
      "genre_Drama                       3000 non-null int64\n",
      "genre_Family                      3000 non-null int64\n",
      "genre_Fantasy                     3000 non-null int64\n",
      "genre_Foreign                     3000 non-null int64\n",
      "genre_History                     3000 non-null int64\n",
      "genre_Horror                      3000 non-null int64\n",
      "genre_Music                       3000 non-null int64\n",
      "genre_Mystery                     3000 non-null int64\n",
      "genre_Romance                     3000 non-null int64\n",
      "genre_Science Fiction             3000 non-null int64\n",
      "genre_TV Movie                    3000 non-null int64\n",
      "genre_Thriller                    3000 non-null int64\n",
      "genre_War                         3000 non-null int64\n",
      "genre_Western                     3000 non-null int64\n",
      "cast_len                          3000 non-null float64\n",
      "crew_len                          3000 non-null float64\n",
      "production_companies_len          3000 non-null float64\n",
      "production_countries_len          3000 non-null float64\n",
      "Keywords_len                      3000 non-null float64\n",
      "original_title_letter_count       3000 non-null int64\n",
      "original_title_word_count         3000 non-null int64\n",
      "title_word_count                  3000 non-null int64\n",
      "overview_word_count               3000 non-null float64\n",
      "tagline_word_count                3000 non-null float64\n",
      "has_tagline                       3000 non-null int64\n",
      "title_different                   3000 non-null int64\n",
      "isReleased                        3000 non-null int64\n",
      "release_year                      3000 non-null int64\n",
      "release_month                     3000 non-null int64\n",
      "release_day                       3000 non-null int64\n",
      "release_wd                        3000 non-null int64\n",
      "release_quarter                   3000 non-null int64\n",
      "Director                          3000 non-null object\n",
      "Producer                          3000 non-null object\n",
      "Executive Producer                3000 non-null object\n",
      "_budget_popularity_ratio          3000 non-null float64\n",
      "_releaseYear_popularity_ratio     3000 non-null float64\n",
      "_releaseYear_popularity_ratio2    3000 non-null float64\n",
      "dtypes: float64(12), int64(35), object(8)\n",
      "memory usage: 1.3+ MB\n"
     ]
    }
   ],
   "source": [
    "data.info()"
   ]
  },
  {
   "cell_type": "code",
   "execution_count": 36,
   "metadata": {},
   "outputs": [],
   "source": [
    "to_dummy = [\"original_language\",\"production_companies\",\"production_countries\",\\\n",
    "           \"Keywords\",\"cast\",\"Director\",\"Producer\",\"Executive Producer\"]"
   ]
  },
  {
   "cell_type": "code",
   "execution_count": 37,
   "metadata": {},
   "outputs": [],
   "source": [
    "limits=[10,35,15,40,30,15,15,20] \n",
    "\n",
    "for i,feat in enumerate(to_dummy):\n",
    "    mlb = MultiLabelBinarizer()\n",
    "    s=data[feat]\n",
    "    x=pd.DataFrame(mlb.fit_transform(s),columns=mlb.classes_, index=data.index)\n",
    "    y=pd.DataFrame(mlb.fit_transform(s),columns=mlb.classes_, index=data.index).sum().sort_values(ascending=False)\n",
    "    rare_entries=y[y<=limits[i]].index\n",
    "    x=x.drop(rare_entries,axis=1)\n",
    "    data=data.drop(feat,axis=1)\n",
    "    data=pd.concat([data, x], axis=1, sort=False)"
   ]
  },
  {
   "cell_type": "code",
   "execution_count": 38,
   "metadata": {},
   "outputs": [
    {
     "name": "stdout",
     "output_type": "stream",
     "text": [
      "<class 'pandas.core.frame.DataFrame'>\n",
      "RangeIndex: 3000 entries, 0 to 2999\n",
      "Columns: 140 entries, belongs_to_collection to Harvey Weinstein\n",
      "dtypes: float64(12), int64(128)\n",
      "memory usage: 3.2 MB\n"
     ]
    }
   ],
   "source": [
    "data.info()"
   ]
  },
  {
   "cell_type": "code",
   "execution_count": 39,
   "metadata": {},
   "outputs": [
    {
     "data": {
      "text/plain": [
       "['belongs_to_collection',\n",
       " 'budget',\n",
       " 'homepage',\n",
       " 'popularity',\n",
       " 'runtime',\n",
       " 'revenue',\n",
       " 'genre_Action',\n",
       " 'genre_Adventure',\n",
       " 'genre_Animation',\n",
       " 'genre_Comedy',\n",
       " 'genre_Crime',\n",
       " 'genre_Documentary',\n",
       " 'genre_Drama',\n",
       " 'genre_Family',\n",
       " 'genre_Fantasy',\n",
       " 'genre_Foreign',\n",
       " 'genre_History',\n",
       " 'genre_Horror',\n",
       " 'genre_Music',\n",
       " 'genre_Mystery',\n",
       " 'genre_Romance',\n",
       " 'genre_Science Fiction',\n",
       " 'genre_TV Movie',\n",
       " 'genre_Thriller',\n",
       " 'genre_War',\n",
       " 'genre_Western',\n",
       " 'cast_len',\n",
       " 'crew_len',\n",
       " 'production_companies_len',\n",
       " 'production_countries_len',\n",
       " 'Keywords_len',\n",
       " 'original_title_letter_count',\n",
       " 'original_title_word_count',\n",
       " 'title_word_count',\n",
       " 'overview_word_count',\n",
       " 'tagline_word_count',\n",
       " 'has_tagline',\n",
       " 'title_different',\n",
       " 'isReleased',\n",
       " 'release_year',\n",
       " 'release_month',\n",
       " 'release_day',\n",
       " 'release_wd',\n",
       " 'release_quarter',\n",
       " '_budget_popularity_ratio',\n",
       " '_releaseYear_popularity_ratio',\n",
       " '_releaseYear_popularity_ratio2',\n",
       " 'a',\n",
       " 'c',\n",
       " 'd',\n",
       " 'e',\n",
       " 'f',\n",
       " 'h',\n",
       " 'i',\n",
       " 'j',\n",
       " 'k',\n",
       " 'l',\n",
       " 'n',\n",
       " 'o',\n",
       " 'r',\n",
       " 's',\n",
       " 't',\n",
       " 'u',\n",
       " 'z',\n",
       " 'Canal+',\n",
       " 'Columbia Pictures',\n",
       " 'Columbia Pictures Corporation',\n",
       " 'Metro-Goldwyn-Mayer (MGM)',\n",
       " 'Miramax Films',\n",
       " 'New Line Cinema',\n",
       " 'Paramount Pictures',\n",
       " 'Relativity Media',\n",
       " 'Touchstone Pictures',\n",
       " 'TriStar Pictures',\n",
       " 'Twentieth Century Fox Film Corporation',\n",
       " 'United Artists',\n",
       " 'Universal Pictures',\n",
       " 'Village Roadshow Pictures',\n",
       " 'Walt Disney Pictures',\n",
       " 'Warner Bros.',\n",
       " 'Australia',\n",
       " 'Belgium',\n",
       " 'Canada',\n",
       " 'China',\n",
       " 'France',\n",
       " 'Germany',\n",
       " 'Hong Kong',\n",
       " 'India',\n",
       " 'Ireland',\n",
       " 'Italy',\n",
       " 'Japan',\n",
       " 'Mexico',\n",
       " 'New Zealand',\n",
       " 'Russia',\n",
       " 'South Korea',\n",
       " 'Spain',\n",
       " 'Sweden',\n",
       " 'United Kingdom',\n",
       " 'United States of America',\n",
       " 'aftercreditsstinger',\n",
       " 'based on novel',\n",
       " 'biography',\n",
       " 'drug',\n",
       " 'duringcreditsstinger',\n",
       " 'dystopia',\n",
       " 'family',\n",
       " 'father son relationship',\n",
       " 'female nudity',\n",
       " 'friendship',\n",
       " 'high school',\n",
       " 'independent film',\n",
       " 'investigation',\n",
       " 'kidnapping',\n",
       " 'los angeles',\n",
       " 'love',\n",
       " 'murder',\n",
       " 'musical',\n",
       " 'new york',\n",
       " 'nudity',\n",
       " 'police',\n",
       " 'prison',\n",
       " 'revenge',\n",
       " 'sequel',\n",
       " 'sex',\n",
       " 'sport',\n",
       " 'suspense',\n",
       " 'teenager',\n",
       " 'violence',\n",
       " 'woman director',\n",
       " 'Arnon Milchan',\n",
       " 'Brian Grazer',\n",
       " 'Eric Fellner',\n",
       " 'Joel Silver',\n",
       " 'Neal H. Moritz',\n",
       " 'Roger Birnbaum',\n",
       " 'Scott Rudin',\n",
       " 'Tim Bevan',\n",
       " 'Bob Weinstein',\n",
       " 'Bruce Berman',\n",
       " 'Harvey Weinstein']"
      ]
     },
     "execution_count": 39,
     "metadata": {},
     "output_type": "execute_result"
    }
   ],
   "source": [
    "list(data.columns)"
   ]
  },
  {
   "cell_type": "code",
   "execution_count": 40,
   "metadata": {},
   "outputs": [],
   "source": [
    "data.revenue = np.log1p(data.revenue)\n",
    "data.budget = np.log1p(data.budget)"
   ]
  },
  {
   "cell_type": "code",
   "execution_count": 41,
   "metadata": {},
   "outputs": [
    {
     "data": {
      "text/plain": [
       "count    3000.000000\n",
       "mean       11.878667\n",
       "std         7.441843\n",
       "min         0.000000\n",
       "25%         0.000000\n",
       "50%        15.894952\n",
       "75%        17.182806\n",
       "max        19.755682\n",
       "Name: budget, dtype: float64"
      ]
     },
     "execution_count": 41,
     "metadata": {},
     "output_type": "execute_result"
    }
   ],
   "source": [
    "data.budget.describe()"
   ]
  },
  {
   "cell_type": "code",
   "execution_count": 42,
   "metadata": {},
   "outputs": [
    {
     "data": {
      "text/plain": [
       "count    3000.000000\n",
       "mean        8.463274\n",
       "std        12.104000\n",
       "min         0.000001\n",
       "25%         4.018053\n",
       "50%         7.374861\n",
       "75%        10.890983\n",
       "max       294.337037\n",
       "Name: popularity, dtype: float64"
      ]
     },
     "execution_count": 42,
     "metadata": {},
     "output_type": "execute_result"
    }
   ],
   "source": [
    "data.popularity.describe()"
   ]
  },
  {
   "cell_type": "code",
   "execution_count": 43,
   "metadata": {},
   "outputs": [
    {
     "data": {
      "text/plain": [
       "count    3000.000000\n",
       "mean      107.856571\n",
       "std        22.079069\n",
       "min         0.000000\n",
       "25%        94.000000\n",
       "50%       104.000000\n",
       "75%       118.000000\n",
       "max       338.000000\n",
       "Name: runtime, dtype: float64"
      ]
     },
     "execution_count": 43,
     "metadata": {},
     "output_type": "execute_result"
    }
   ],
   "source": [
    "data.runtime.describe()"
   ]
  },
  {
   "cell_type": "code",
   "execution_count": 44,
   "metadata": {},
   "outputs": [
    {
     "data": {
      "text/plain": [
       "count    3000.000000\n",
       "mean       15.961986\n",
       "std         3.061311\n",
       "min         0.693147\n",
       "25%        14.682517\n",
       "50%        16.637310\n",
       "75%        18.048445\n",
       "max        21.141685\n",
       "Name: revenue, dtype: float64"
      ]
     },
     "execution_count": 44,
     "metadata": {},
     "output_type": "execute_result"
    }
   ],
   "source": [
    "data.revenue.describe()"
   ]
  },
  {
   "cell_type": "code",
   "execution_count": 45,
   "metadata": {},
   "outputs": [],
   "source": [
    "data2= data[data[\"budget\"]== 0]"
   ]
  },
  {
   "cell_type": "code",
   "execution_count": 46,
   "metadata": {},
   "outputs": [
    {
     "data": {
      "text/plain": [
       "812"
      ]
     },
     "execution_count": 46,
     "metadata": {},
     "output_type": "execute_result"
    }
   ],
   "source": [
    "len(data2)"
   ]
  },
  {
   "cell_type": "code",
   "execution_count": 47,
   "metadata": {},
   "outputs": [],
   "source": [
    "data2= data[data[\"budget\"]> 18]"
   ]
  },
  {
   "cell_type": "code",
   "execution_count": 48,
   "metadata": {},
   "outputs": [
    {
     "data": {
      "text/plain": [
       "283"
      ]
     },
     "execution_count": 48,
     "metadata": {},
     "output_type": "execute_result"
    }
   ],
   "source": [
    "len(data2)"
   ]
  },
  {
   "cell_type": "code",
   "execution_count": 49,
   "metadata": {},
   "outputs": [
    {
     "data": {
      "image/png": "[encoded data removed]",
      "text/plain": [
       "<Figure size 432x288 with 1 Axes>"
      ]
     },
     "metadata": {
      "needs_background": "light"
     },
     "output_type": "display_data"
    }
   ],
   "source": [
    "plt.scatter(x=data['budget'], y=target, color='pink')\n",
    "plt.ylabel('Revenue')\n",
    "plt.xlabel('Budget')\n",
    "plt.show()\n"
   ]
  },
  {
   "cell_type": "code",
   "execution_count": 50,
   "metadata": {},
   "outputs": [],
   "source": [
    "data2= data[data[\"revenue\"]> 19.5]"
   ]
  },
  {
   "cell_type": "code",
   "execution_count": 51,
   "metadata": {},
   "outputs": [
    {
     "data": {
      "text/plain": [
       "157"
      ]
     },
     "execution_count": 51,
     "metadata": {},
     "output_type": "execute_result"
    }
   ],
   "source": [
    "len(data2)"
   ]
  },
  {
   "cell_type": "code",
   "execution_count": 52,
   "metadata": {},
   "outputs": [],
   "source": [
    "data2= data[data[\"revenue\"]< 4]"
   ]
  },
  {
   "cell_type": "code",
   "execution_count": 53,
   "metadata": {},
   "outputs": [
    {
     "data": {
      "text/plain": [
       "33"
      ]
     },
     "execution_count": 53,
     "metadata": {},
     "output_type": "execute_result"
    }
   ],
   "source": [
    "len(data2)"
   ]
  },
  {
   "cell_type": "code",
   "execution_count": 54,
   "metadata": {},
   "outputs": [
    {
     "data": {
      "image/png": "[encoded data removed]",
      "text/plain": [
       "<Figure size 432x288 with 1 Axes>"
      ]
     },
     "metadata": {
      "needs_background": "light"
     },
     "output_type": "display_data"
    }
   ],
   "source": [
    "plt.scatter(x=data['revenue'],y=data['revenue'], color='pink')\n",
    "plt.xlabel('Revenue')\n",
    "plt.show()\n",
    "\n",
    "\n"
   ]
  },
  {
   "cell_type": "code",
   "execution_count": 55,
   "metadata": {},
   "outputs": [],
   "source": [
    "data2= data[data[\"popularity\"]<1]"
   ]
  },
  {
   "cell_type": "code",
   "execution_count": 56,
   "metadata": {},
   "outputs": [
    {
     "data": {
      "text/plain": [
       "235"
      ]
     },
     "execution_count": 56,
     "metadata": {},
     "output_type": "execute_result"
    }
   ],
   "source": [
    "len(data2)"
   ]
  },
  {
   "cell_type": "code",
   "execution_count": 57,
   "metadata": {},
   "outputs": [],
   "source": [
    "data2= data[data[\"popularity\"]> 50]"
   ]
  },
  {
   "cell_type": "code",
   "execution_count": 58,
   "metadata": {},
   "outputs": [
    {
     "data": {
      "text/plain": [
       "15"
      ]
     },
     "execution_count": 58,
     "metadata": {},
     "output_type": "execute_result"
    }
   ],
   "source": [
    "len(data2)"
   ]
  },
  {
   "cell_type": "code",
   "execution_count": 59,
   "metadata": {},
   "outputs": [
    {
     "data": {
      "image/png": "[encoded data removed]",
      "text/plain": [
       "<Figure size 432x288 with 1 Axes>"
      ]
     },
     "metadata": {
      "needs_background": "light"
     },
     "output_type": "display_data"
    }
   ],
   "source": [
    " plt.scatter(x=data['popularity'], y=target, color='pink')\n",
    "plt.ylabel('Revenue')\n",
    "plt.xlabel('Popularity')\n",
    "plt.show()"
   ]
  },
  {
   "cell_type": "code",
   "execution_count": 60,
   "metadata": {},
   "outputs": [],
   "source": [
    "data2= data[data[\"runtime\"]> 200]"
   ]
  },
  {
   "cell_type": "code",
   "execution_count": 61,
   "metadata": {},
   "outputs": [
    {
     "data": {
      "text/plain": [
       "8"
      ]
     },
     "execution_count": 61,
     "metadata": {},
     "output_type": "execute_result"
    }
   ],
   "source": [
    "len(data2)"
   ]
  },
  {
   "cell_type": "code",
   "execution_count": 62,
   "metadata": {},
   "outputs": [],
   "source": [
    "data2= data[data[\"runtime\"]< 60]"
   ]
  },
  {
   "cell_type": "code",
   "execution_count": 63,
   "metadata": {},
   "outputs": [
    {
     "data": {
      "text/plain": [
       "16"
      ]
     },
     "execution_count": 63,
     "metadata": {},
     "output_type": "execute_result"
    }
   ],
   "source": [
    "len(data2)"
   ]
  },
  {
   "cell_type": "code",
   "execution_count": 64,
   "metadata": {},
   "outputs": [
    {
     "data": {
      "image/png": "[encoded data removed]",
      "text/plain": [
       "<Figure size 432x288 with 1 Axes>"
      ]
     },
     "metadata": {
      "needs_background": "light"
     },
     "output_type": "display_data"
    }
   ],
   "source": [
    "plt.scatter(x=data['runtime'], y=target, color='pink')\n",
    "plt.ylabel('Revenue')\n",
    "plt.xlabel('runtime')\n",
    "plt.show()"
   ]
  },
  {
   "cell_type": "code",
   "execution_count": 65,
   "metadata": {},
   "outputs": [],
   "source": [
    "data = data[data['runtime'] >=(60)]\n",
    "data = data[data['runtime'] <=(200)]"
   ]
  },
  {
   "cell_type": "code",
   "execution_count": 66,
   "metadata": {},
   "outputs": [],
   "source": [
    "data = data[data['popularity'] >=(1)]\n",
    "data = data[data['popularity'] <=(50)]"
   ]
  },
  {
   "cell_type": "code",
   "execution_count": 67,
   "metadata": {},
   "outputs": [],
   "source": [
    "data = data[data['revenue'] >=(4)]\n",
    "data = data[data['revenue'] <=(19.5)]"
   ]
  },
  {
   "cell_type": "code",
   "execution_count": 68,
   "metadata": {},
   "outputs": [],
   "source": [
    "data = data[data['budget'] <=(18)]"
   ]
  },
  {
   "cell_type": "code",
   "execution_count": 69,
   "metadata": {},
   "outputs": [
    {
     "data": {
      "text/html": [
       "<div>\n",
       "<style scoped>\n",
       "    .dataframe tbody tr th:only-of-type {\n",
       "        vertical-align: middle;\n",
       "    }\n",
       "\n",
       "    .dataframe tbody tr th {\n",
       "        vertical-align: top;\n",
       "    }\n",
       "\n",
       "    .dataframe thead th {\n",
       "        text-align: right;\n",
       "    }\n",
       "</style>\n",
       "<table border=\"1\" class=\"dataframe\">\n",
       "  <thead>\n",
       "    <tr style=\"text-align: right;\">\n",
       "      <th></th>\n",
       "      <th>belongs_to_collection</th>\n",
       "      <th>budget</th>\n",
       "      <th>homepage</th>\n",
       "      <th>popularity</th>\n",
       "      <th>runtime</th>\n",
       "      <th>revenue</th>\n",
       "      <th>genre_Action</th>\n",
       "      <th>genre_Adventure</th>\n",
       "      <th>genre_Animation</th>\n",
       "      <th>genre_Comedy</th>\n",
       "      <th>...</th>\n",
       "      <th>Brian Grazer</th>\n",
       "      <th>Eric Fellner</th>\n",
       "      <th>Joel Silver</th>\n",
       "      <th>Neal H. Moritz</th>\n",
       "      <th>Roger Birnbaum</th>\n",
       "      <th>Scott Rudin</th>\n",
       "      <th>Tim Bevan</th>\n",
       "      <th>Bob Weinstein</th>\n",
       "      <th>Bruce Berman</th>\n",
       "      <th>Harvey Weinstein</th>\n",
       "    </tr>\n",
       "  </thead>\n",
       "  <tbody>\n",
       "    <tr>\n",
       "      <th>count</th>\n",
       "      <td>2397.000000</td>\n",
       "      <td>2397.000000</td>\n",
       "      <td>2397.000000</td>\n",
       "      <td>2397.000000</td>\n",
       "      <td>2397.000000</td>\n",
       "      <td>2397.000000</td>\n",
       "      <td>2397.000000</td>\n",
       "      <td>2397.000000</td>\n",
       "      <td>2397.000000</td>\n",
       "      <td>2397.000000</td>\n",
       "      <td>...</td>\n",
       "      <td>2397.000000</td>\n",
       "      <td>2397.000000</td>\n",
       "      <td>2397.000000</td>\n",
       "      <td>2397.000000</td>\n",
       "      <td>2397.000000</td>\n",
       "      <td>2397.000000</td>\n",
       "      <td>2397.000000</td>\n",
       "      <td>2397.000000</td>\n",
       "      <td>2397.000000</td>\n",
       "      <td>2397.000000</td>\n",
       "    </tr>\n",
       "    <tr>\n",
       "      <th>mean</th>\n",
       "      <td>0.184397</td>\n",
       "      <td>11.550893</td>\n",
       "      <td>0.293283</td>\n",
       "      <td>7.800414</td>\n",
       "      <td>106.786817</td>\n",
       "      <td>15.965913</td>\n",
       "      <td>0.224864</td>\n",
       "      <td>0.116813</td>\n",
       "      <td>0.038798</td>\n",
       "      <td>0.350855</td>\n",
       "      <td>...</td>\n",
       "      <td>0.004172</td>\n",
       "      <td>0.007092</td>\n",
       "      <td>0.006675</td>\n",
       "      <td>0.006258</td>\n",
       "      <td>0.003755</td>\n",
       "      <td>0.006675</td>\n",
       "      <td>0.007092</td>\n",
       "      <td>0.008761</td>\n",
       "      <td>0.005006</td>\n",
       "      <td>0.008761</td>\n",
       "    </tr>\n",
       "    <tr>\n",
       "      <th>std</th>\n",
       "      <td>0.387889</td>\n",
       "      <td>7.393210</td>\n",
       "      <td>0.455362</td>\n",
       "      <td>4.534136</td>\n",
       "      <td>18.606617</td>\n",
       "      <td>2.454191</td>\n",
       "      <td>0.417580</td>\n",
       "      <td>0.321264</td>\n",
       "      <td>0.193155</td>\n",
       "      <td>0.477337</td>\n",
       "      <td>...</td>\n",
       "      <td>0.064469</td>\n",
       "      <td>0.083934</td>\n",
       "      <td>0.081445</td>\n",
       "      <td>0.078875</td>\n",
       "      <td>0.061173</td>\n",
       "      <td>0.081445</td>\n",
       "      <td>0.083934</td>\n",
       "      <td>0.093208</td>\n",
       "      <td>0.070592</td>\n",
       "      <td>0.093208</td>\n",
       "    </tr>\n",
       "    <tr>\n",
       "      <th>min</th>\n",
       "      <td>0.000000</td>\n",
       "      <td>0.000000</td>\n",
       "      <td>0.000000</td>\n",
       "      <td>1.012665</td>\n",
       "      <td>62.000000</td>\n",
       "      <td>4.262680</td>\n",
       "      <td>0.000000</td>\n",
       "      <td>0.000000</td>\n",
       "      <td>0.000000</td>\n",
       "      <td>0.000000</td>\n",
       "      <td>...</td>\n",
       "      <td>0.000000</td>\n",
       "      <td>0.000000</td>\n",
       "      <td>0.000000</td>\n",
       "      <td>0.000000</td>\n",
       "      <td>0.000000</td>\n",
       "      <td>0.000000</td>\n",
       "      <td>0.000000</td>\n",
       "      <td>0.000000</td>\n",
       "      <td>0.000000</td>\n",
       "      <td>0.000000</td>\n",
       "    </tr>\n",
       "    <tr>\n",
       "      <th>25%</th>\n",
       "      <td>0.000000</td>\n",
       "      <td>0.000000</td>\n",
       "      <td>0.000000</td>\n",
       "      <td>4.709454</td>\n",
       "      <td>94.000000</td>\n",
       "      <td>14.827212</td>\n",
       "      <td>0.000000</td>\n",
       "      <td>0.000000</td>\n",
       "      <td>0.000000</td>\n",
       "      <td>0.000000</td>\n",
       "      <td>...</td>\n",
       "      <td>0.000000</td>\n",
       "      <td>0.000000</td>\n",
       "      <td>0.000000</td>\n",
       "      <td>0.000000</td>\n",
       "      <td>0.000000</td>\n",
       "      <td>0.000000</td>\n",
       "      <td>0.000000</td>\n",
       "      <td>0.000000</td>\n",
       "      <td>0.000000</td>\n",
       "      <td>0.000000</td>\n",
       "    </tr>\n",
       "    <tr>\n",
       "      <th>50%</th>\n",
       "      <td>0.000000</td>\n",
       "      <td>15.717618</td>\n",
       "      <td>0.000000</td>\n",
       "      <td>7.362552</td>\n",
       "      <td>103.000000</td>\n",
       "      <td>16.549559</td>\n",
       "      <td>0.000000</td>\n",
       "      <td>0.000000</td>\n",
       "      <td>0.000000</td>\n",
       "      <td>0.000000</td>\n",
       "      <td>...</td>\n",
       "      <td>0.000000</td>\n",
       "      <td>0.000000</td>\n",
       "      <td>0.000000</td>\n",
       "      <td>0.000000</td>\n",
       "      <td>0.000000</td>\n",
       "      <td>0.000000</td>\n",
       "      <td>0.000000</td>\n",
       "      <td>0.000000</td>\n",
       "      <td>0.000000</td>\n",
       "      <td>0.000000</td>\n",
       "    </tr>\n",
       "    <tr>\n",
       "      <th>75%</th>\n",
       "      <td>0.000000</td>\n",
       "      <td>16.906553</td>\n",
       "      <td>1.000000</td>\n",
       "      <td>10.414363</td>\n",
       "      <td>116.000000</td>\n",
       "      <td>17.723468</td>\n",
       "      <td>0.000000</td>\n",
       "      <td>0.000000</td>\n",
       "      <td>0.000000</td>\n",
       "      <td>1.000000</td>\n",
       "      <td>...</td>\n",
       "      <td>0.000000</td>\n",
       "      <td>0.000000</td>\n",
       "      <td>0.000000</td>\n",
       "      <td>0.000000</td>\n",
       "      <td>0.000000</td>\n",
       "      <td>0.000000</td>\n",
       "      <td>0.000000</td>\n",
       "      <td>0.000000</td>\n",
       "      <td>0.000000</td>\n",
       "      <td>0.000000</td>\n",
       "    </tr>\n",
       "    <tr>\n",
       "      <th>max</th>\n",
       "      <td>1.000000</td>\n",
       "      <td>17.989898</td>\n",
       "      <td>1.000000</td>\n",
       "      <td>49.247505</td>\n",
       "      <td>197.000000</td>\n",
       "      <td>19.481080</td>\n",
       "      <td>1.000000</td>\n",
       "      <td>1.000000</td>\n",
       "      <td>1.000000</td>\n",
       "      <td>1.000000</td>\n",
       "      <td>...</td>\n",
       "      <td>1.000000</td>\n",
       "      <td>1.000000</td>\n",
       "      <td>1.000000</td>\n",
       "      <td>1.000000</td>\n",
       "      <td>1.000000</td>\n",
       "      <td>1.000000</td>\n",
       "      <td>1.000000</td>\n",
       "      <td>1.000000</td>\n",
       "      <td>1.000000</td>\n",
       "      <td>1.000000</td>\n",
       "    </tr>\n",
       "  </tbody>\n",
       "</table>\n",
       "<p>8 rows × 140 columns</p>\n",
       "</div>"
      ],
      "text/plain": [
       "       belongs_to_collection       budget     homepage   popularity  \\\n",
       "count            2397.000000  2397.000000  2397.000000  2397.000000   \n",
       "mean                0.184397    11.550893     0.293283     7.800414   \n",
       "std                 0.387889     7.393210     0.455362     4.534136   \n",
       "min                 0.000000     0.000000     0.000000     1.012665   \n",
       "25%                 0.000000     0.000000     0.000000     4.709454   \n",
       "50%                 0.000000    15.717618     0.000000     7.362552   \n",
       "75%                 0.000000    16.906553     1.000000    10.414363   \n",
       "max                 1.000000    17.989898     1.000000    49.247505   \n",
       "\n",
       "           runtime      revenue  genre_Action  genre_Adventure  \\\n",
       "count  2397.000000  2397.000000   2397.000000      2397.000000   \n",
       "mean    106.786817    15.965913      0.224864         0.116813   \n",
       "std      18.606617     2.454191      0.417580         0.321264   \n",
       "min      62.000000     4.262680      0.000000         0.000000   \n",
       "25%      94.000000    14.827212      0.000000         0.000000   \n",
       "50%     103.000000    16.549559      0.000000         0.000000   \n",
       "75%     116.000000    17.723468      0.000000         0.000000   \n",
       "max     197.000000    19.481080      1.000000         1.000000   \n",
       "\n",
       "       genre_Animation  genre_Comedy  ...  Brian Grazer  Eric Fellner  \\\n",
       "count      2397.000000   2397.000000  ...   2397.000000   2397.000000   \n",
       "mean          0.038798      0.350855  ...      0.004172      0.007092   \n",
       "std           0.193155      0.477337  ...      0.064469      0.083934   \n",
       "min           0.000000      0.000000  ...      0.000000      0.000000   \n",
       "25%           0.000000      0.000000  ...      0.000000      0.000000   \n",
       "50%           0.000000      0.000000  ...      0.000000      0.000000   \n",
       "75%           0.000000      1.000000  ...      0.000000      0.000000   \n",
       "max           1.000000      1.000000  ...      1.000000      1.000000   \n",
       "\n",
       "       Joel Silver  Neal H. Moritz  Roger Birnbaum  Scott Rudin    Tim Bevan  \\\n",
       "count  2397.000000     2397.000000     2397.000000  2397.000000  2397.000000   \n",
       "mean      0.006675        0.006258        0.003755     0.006675     0.007092   \n",
       "std       0.081445        0.078875        0.061173     0.081445     0.083934   \n",
       "min       0.000000        0.000000        0.000000     0.000000     0.000000   \n",
       "25%       0.000000        0.000000        0.000000     0.000000     0.000000   \n",
       "50%       0.000000        0.000000        0.000000     0.000000     0.000000   \n",
       "75%       0.000000        0.000000        0.000000     0.000000     0.000000   \n",
       "max       1.000000        1.000000        1.000000     1.000000     1.000000   \n",
       "\n",
       "       Bob Weinstein  Bruce Berman  Harvey Weinstein  \n",
       "count    2397.000000   2397.000000       2397.000000  \n",
       "mean        0.008761      0.005006          0.008761  \n",
       "std         0.093208      0.070592          0.093208  \n",
       "min         0.000000      0.000000          0.000000  \n",
       "25%         0.000000      0.000000          0.000000  \n",
       "50%         0.000000      0.000000          0.000000  \n",
       "75%         0.000000      0.000000          0.000000  \n",
       "max         1.000000      1.000000          1.000000  \n",
       "\n",
       "[8 rows x 140 columns]"
      ]
     },
     "execution_count": 69,
     "metadata": {},
     "output_type": "execute_result"
    }
   ],
   "source": [
    "data.describe()"
   ]
  },
  {
   "cell_type": "code",
   "execution_count": 70,
   "metadata": {},
   "outputs": [
    {
     "data": {
      "text/html": [
       "<div>\n",
       "<style scoped>\n",
       "    .dataframe tbody tr th:only-of-type {\n",
       "        vertical-align: middle;\n",
       "    }\n",
       "\n",
       "    .dataframe tbody tr th {\n",
       "        vertical-align: top;\n",
       "    }\n",
       "\n",
       "    .dataframe thead th {\n",
       "        text-align: right;\n",
       "    }\n",
       "</style>\n",
       "<table border=\"1\" class=\"dataframe\">\n",
       "  <thead>\n",
       "    <tr style=\"text-align: right;\">\n",
       "      <th></th>\n",
       "      <th>belongs_to_collection</th>\n",
       "      <th>budget</th>\n",
       "      <th>homepage</th>\n",
       "      <th>popularity</th>\n",
       "      <th>runtime</th>\n",
       "      <th>revenue</th>\n",
       "      <th>genre_Action</th>\n",
       "      <th>genre_Adventure</th>\n",
       "      <th>genre_Animation</th>\n",
       "      <th>genre_Comedy</th>\n",
       "      <th>...</th>\n",
       "      <th>Brian Grazer</th>\n",
       "      <th>Eric Fellner</th>\n",
       "      <th>Joel Silver</th>\n",
       "      <th>Neal H. Moritz</th>\n",
       "      <th>Roger Birnbaum</th>\n",
       "      <th>Scott Rudin</th>\n",
       "      <th>Tim Bevan</th>\n",
       "      <th>Bob Weinstein</th>\n",
       "      <th>Bruce Berman</th>\n",
       "      <th>Harvey Weinstein</th>\n",
       "    </tr>\n",
       "  </thead>\n",
       "  <tbody>\n",
       "    <tr>\n",
       "      <th>0</th>\n",
       "      <td>1</td>\n",
       "      <td>16.454568</td>\n",
       "      <td>0</td>\n",
       "      <td>6.575393</td>\n",
       "      <td>93.0</td>\n",
       "      <td>16.326300</td>\n",
       "      <td>0</td>\n",
       "      <td>0</td>\n",
       "      <td>0</td>\n",
       "      <td>1</td>\n",
       "      <td>...</td>\n",
       "      <td>0</td>\n",
       "      <td>0</td>\n",
       "      <td>0</td>\n",
       "      <td>0</td>\n",
       "      <td>0</td>\n",
       "      <td>0</td>\n",
       "      <td>0</td>\n",
       "      <td>0</td>\n",
       "      <td>0</td>\n",
       "      <td>0</td>\n",
       "    </tr>\n",
       "    <tr>\n",
       "      <th>1</th>\n",
       "      <td>1</td>\n",
       "      <td>17.504390</td>\n",
       "      <td>0</td>\n",
       "      <td>8.248895</td>\n",
       "      <td>113.0</td>\n",
       "      <td>18.370959</td>\n",
       "      <td>0</td>\n",
       "      <td>0</td>\n",
       "      <td>0</td>\n",
       "      <td>1</td>\n",
       "      <td>...</td>\n",
       "      <td>0</td>\n",
       "      <td>0</td>\n",
       "      <td>0</td>\n",
       "      <td>0</td>\n",
       "      <td>0</td>\n",
       "      <td>0</td>\n",
       "      <td>0</td>\n",
       "      <td>0</td>\n",
       "      <td>0</td>\n",
       "      <td>0</td>\n",
       "    </tr>\n",
       "    <tr>\n",
       "      <th>3</th>\n",
       "      <td>0</td>\n",
       "      <td>13.997833</td>\n",
       "      <td>1</td>\n",
       "      <td>3.174936</td>\n",
       "      <td>122.0</td>\n",
       "      <td>16.588099</td>\n",
       "      <td>0</td>\n",
       "      <td>0</td>\n",
       "      <td>0</td>\n",
       "      <td>0</td>\n",
       "      <td>...</td>\n",
       "      <td>0</td>\n",
       "      <td>0</td>\n",
       "      <td>0</td>\n",
       "      <td>0</td>\n",
       "      <td>0</td>\n",
       "      <td>0</td>\n",
       "      <td>0</td>\n",
       "      <td>0</td>\n",
       "      <td>0</td>\n",
       "      <td>0</td>\n",
       "    </tr>\n",
       "    <tr>\n",
       "      <th>4</th>\n",
       "      <td>0</td>\n",
       "      <td>0.000000</td>\n",
       "      <td>0</td>\n",
       "      <td>1.148070</td>\n",
       "      <td>118.0</td>\n",
       "      <td>15.182615</td>\n",
       "      <td>1</td>\n",
       "      <td>0</td>\n",
       "      <td>0</td>\n",
       "      <td>0</td>\n",
       "      <td>...</td>\n",
       "      <td>0</td>\n",
       "      <td>0</td>\n",
       "      <td>0</td>\n",
       "      <td>0</td>\n",
       "      <td>0</td>\n",
       "      <td>0</td>\n",
       "      <td>0</td>\n",
       "      <td>0</td>\n",
       "      <td>0</td>\n",
       "      <td>0</td>\n",
       "    </tr>\n",
       "    <tr>\n",
       "      <th>6</th>\n",
       "      <td>0</td>\n",
       "      <td>16.454568</td>\n",
       "      <td>1</td>\n",
       "      <td>7.286477</td>\n",
       "      <td>92.0</td>\n",
       "      <td>18.263396</td>\n",
       "      <td>0</td>\n",
       "      <td>0</td>\n",
       "      <td>0</td>\n",
       "      <td>0</td>\n",
       "      <td>...</td>\n",
       "      <td>0</td>\n",
       "      <td>0</td>\n",
       "      <td>0</td>\n",
       "      <td>0</td>\n",
       "      <td>0</td>\n",
       "      <td>0</td>\n",
       "      <td>0</td>\n",
       "      <td>0</td>\n",
       "      <td>0</td>\n",
       "      <td>0</td>\n",
       "    </tr>\n",
       "  </tbody>\n",
       "</table>\n",
       "<p>5 rows × 140 columns</p>\n",
       "</div>"
      ],
      "text/plain": [
       "   belongs_to_collection     budget  homepage  popularity  runtime    revenue  \\\n",
       "0                      1  16.454568         0    6.575393     93.0  16.326300   \n",
       "1                      1  17.504390         0    8.248895    113.0  18.370959   \n",
       "3                      0  13.997833         1    3.174936    122.0  16.588099   \n",
       "4                      0   0.000000         0    1.148070    118.0  15.182615   \n",
       "6                      0  16.454568         1    7.286477     92.0  18.263396   \n",
       "\n",
       "   genre_Action  genre_Adventure  genre_Animation  genre_Comedy  ...  \\\n",
       "0             0                0                0             1  ...   \n",
       "1             0                0                0             1  ...   \n",
       "3             0                0                0             0  ...   \n",
       "4             1                0                0             0  ...   \n",
       "6             0                0                0             0  ...   \n",
       "\n",
       "   Brian Grazer  Eric Fellner  Joel Silver  Neal H. Moritz  Roger Birnbaum  \\\n",
       "0             0             0            0               0               0   \n",
       "1             0             0            0               0               0   \n",
       "3             0             0            0               0               0   \n",
       "4             0             0            0               0               0   \n",
       "6             0             0            0               0               0   \n",
       "\n",
       "   Scott Rudin  Tim Bevan  Bob Weinstein  Bruce Berman  Harvey Weinstein  \n",
       "0            0          0              0             0                 0  \n",
       "1            0          0              0             0                 0  \n",
       "3            0          0              0             0                 0  \n",
       "4            0          0              0             0                 0  \n",
       "6            0          0              0             0                 0  \n",
       "\n",
       "[5 rows x 140 columns]"
      ]
     },
     "execution_count": 70,
     "metadata": {},
     "output_type": "execute_result"
    }
   ],
   "source": [
    "data.head()"
   ]
  },
  {
   "cell_type": "code",
   "execution_count": 71,
   "metadata": {},
   "outputs": [
    {
     "name": "stdout",
     "output_type": "stream",
     "text": [
      "belongs_to_collection         int64\n",
      "budget                      float64\n",
      "homepage                      int64\n",
      "popularity                  float64\n",
      "runtime                     float64\n",
      "revenue                     float64\n",
      "genre_Action                  int64\n",
      "genre_Adventure               int64\n",
      "genre_Animation               int64\n",
      "genre_Comedy                  int64\n",
      "genre_Crime                   int64\n",
      "genre_Documentary             int64\n",
      "genre_Drama                   int64\n",
      "genre_Family                  int64\n",
      "genre_Fantasy                 int64\n",
      "genre_Foreign                 int64\n",
      "genre_History                 int64\n",
      "genre_Horror                  int64\n",
      "genre_Music                   int64\n",
      "genre_Mystery                 int64\n",
      "genre_Romance                 int64\n",
      "genre_Science Fiction         int64\n",
      "genre_TV Movie                int64\n",
      "genre_Thriller                int64\n",
      "genre_War                     int64\n",
      "genre_Western                 int64\n",
      "cast_len                    float64\n",
      "crew_len                    float64\n",
      "production_companies_len    float64\n",
      "production_countries_len    float64\n",
      "                             ...   \n",
      "independent film              int64\n",
      "investigation                 int64\n",
      "kidnapping                    int64\n",
      "los angeles                   int64\n",
      "love                          int64\n",
      "murder                        int64\n",
      "musical                       int64\n",
      "new york                      int64\n",
      "nudity                        int64\n",
      "police                        int64\n",
      "prison                        int64\n",
      "revenge                       int64\n",
      "sequel                        int64\n",
      "sex                           int64\n",
      "sport                         int64\n",
      "suspense                      int64\n",
      "teenager                      int64\n",
      "violence                      int64\n",
      "woman director                int64\n",
      "Arnon Milchan                 int64\n",
      "Brian Grazer                  int64\n",
      "Eric Fellner                  int64\n",
      "Joel Silver                   int64\n",
      "Neal H. Moritz                int64\n",
      "Roger Birnbaum                int64\n",
      "Scott Rudin                   int64\n",
      "Tim Bevan                     int64\n",
      "Bob Weinstein                 int64\n",
      "Bruce Berman                  int64\n",
      "Harvey Weinstein              int64\n",
      "Length: 140, dtype: object\n"
     ]
    }
   ],
   "source": [
    "numeric_features = data.select_dtypes(include=[np.number])\n",
    "print(numeric_features.dtypes)"
   ]
  },
  {
   "cell_type": "code",
   "execution_count": 72,
   "metadata": {},
   "outputs": [
    {
     "name": "stdout",
     "output_type": "stream",
     "text": [
      "(revenue                           1.000000\n",
      "budget                            0.439614\n",
      "_releaseYear_popularity_ratio2    0.391727\n",
      "popularity                        0.389601\n",
      "_budget_popularity_ratio          0.303693\n",
      "has_tagline                       0.268498\n",
      "crew_len                          0.248391\n",
      "United States of America          0.242147\n",
      "cast_len                          0.235792\n",
      "belongs_to_collection             0.207474\n",
      "Name: revenue, dtype: float64, '\\n')\n"
     ]
    }
   ],
   "source": [
    "corr = numeric_features.corr()\n",
    "\n",
    "print (corr['revenue'].sort_values(ascending=False)[:10], '\\n')"
   ]
  },
  {
   "cell_type": "code",
   "execution_count": 73,
   "metadata": {},
   "outputs": [],
   "source": [
    "desired=[\"budget\", \"_releaseYear_popularity_ratio2\", \"popularity\",\"_budget_popularity_ratio\",\"has_tagline\",\"crew_len\",\"United States of America\",\"cast_len\",\"belongs_to_collection\"]"
   ]
  },
  {
   "cell_type": "code",
   "execution_count": 74,
   "metadata": {},
   "outputs": [],
   "source": [
    "subset = data[desired]"
   ]
  },
  {
   "cell_type": "code",
   "execution_count": 75,
   "metadata": {},
   "outputs": [],
   "source": [
    "target=data[\"revenue\"]"
   ]
  },
  {
   "cell_type": "code",
   "execution_count": 76,
   "metadata": {},
   "outputs": [],
   "source": [
    "Y = target\n",
    "X = subset\n",
    "\n",
    "X_train, X_test, Y_train, Y_test = train_test_split(X, Y, random_state=42, test_size=.30)"
   ]
  },
  {
   "cell_type": "code",
   "execution_count": 82,
   "metadata": {},
   "outputs": [
    {
     "name": "stdout",
     "output_type": "stream",
     "text": [
      "RMSE:\n",
      "364.7720972760944\n",
      "RMSE:\n",
      "4.479927662821252\n",
      "RMSE:\n",
      "4.307572244359194\n",
      "RMSE:\n",
      "3.9612268113843583\n",
      "RMSE:\n",
      "3.8162853644076713\n",
      "RMSE:\n",
      "3.840731464479748\n"
     ]
    }
   ],
   "source": [
    "modelos = [\n",
    "    MLPRegressor(hidden_layer_sizes=40, learning_rate_init=0.0002),\n",
    "    DecisionTreeRegressor(max_depth=7, max_features=3),\n",
    "    BaggingRegressor(),\n",
    "    AdaBoostRegressor(n_estimators=8, learning_rate=0.2),\n",
    "    RandomForestRegressor(max_depth=8, max_features=2),\n",
    "    linear_model.LinearRegression()\n",
    "]\n",
    "\n",
    "for modelo in modelos:\n",
    "    modelo.fit(X_train, Y_train)\n",
    "    # score = classifier.score(X_test, Y_test)\n",
    "    # print(score)\n",
    "    rmse = mean_squared_error(Y_test, modelo.predict(X_test))\n",
    "    print(\"RMSE:\")\n",
    "    print(rmse)"
   ]
  },
  {
   "cell_type": "code",
   "execution_count": 84,
   "metadata": {},
   "outputs": [
    {
     "name": "stdout",
     "output_type": "stream",
     "text": [
      "RMSE:\n",
      "56.35241079017002\n",
      "RMSE:\n",
      "5.1529484830115\n",
      "RMSE:\n",
      "4.459861523359038\n",
      "RMSE:\n",
      "4.3652839581037295\n",
      "RMSE:\n",
      "3.9384342441497786\n",
      "RMSE:\n",
      "3.840731464479748\n"
     ]
    }
   ],
   "source": [
    "modelos = [\n",
    "    MLPRegressor(hidden_layer_sizes=50, learning_rate_init=0.0002),\n",
    "    DecisionTreeRegressor(max_depth=10, max_features=1),\n",
    "    BaggingRegressor(),\n",
    "    AdaBoostRegressor(n_estimators=15, learning_rate=0.5),\n",
    "    RandomForestRegressor(max_depth=8, max_features=1),\n",
    "    linear_model.LinearRegression()\n",
    "]\n",
    "\n",
    "for modelo in modelos:\n",
    "    modelo.fit(X_train, Y_train)\n",
    "    # score = classifier.score(X_test, Y_test)\n",
    "    # print(score)\n",
    "    rmse = mean_squared_error(Y_test, modelo.predict(X_test))\n",
    "    print(\"RMSE:\")\n",
    "    print(rmse)"
   ]
  },
  {
   "cell_type": "code",
   "execution_count": 86,
   "metadata": {},
   "outputs": [
    {
     "name": "stdout",
     "output_type": "stream",
     "text": [
      "RMSE:\n",
      "209.0952529732078\n",
      "RMSE:\n",
      "4.663938189089222\n",
      "RMSE:\n",
      "4.158977012344437\n",
      "RMSE:\n",
      "3.994895121688709\n",
      "RMSE:\n",
      "3.8560069114594095\n",
      "RMSE:\n",
      "3.840731464479748\n"
     ]
    }
   ],
   "source": [
    "modelos = [\n",
    "    MLPRegressor(hidden_layer_sizes=30, learning_rate_init=0.0002),\n",
    "    DecisionTreeRegressor(max_depth=7, max_features=1),\n",
    "    BaggingRegressor(),\n",
    "    AdaBoostRegressor(n_estimators=10, learning_rate=0.2),\n",
    "    RandomForestRegressor(max_depth=7, max_features=1),\n",
    "    linear_model.LinearRegression()\n",
    "]\n",
    "\n",
    "for modelo in modelos:\n",
    "    modelo.fit(X_train, Y_train)\n",
    "    # score = classifier.score(X_test, Y_test)\n",
    "    # print(score)\n",
    "    rmse = mean_squared_error(Y_test, modelo.predict(X_test))\n",
    "    print(\"RMSE:\")\n",
    "    print(rmse)"
   ]
  }
 ],
 "metadata": {
  "kernelspec": {
   "display_name": "Python 2",
   "language": "python",
   "name": "python2"
  },
  "language_info": {
   "codemirror_mode": {
    "name": "ipython",
    "version": 2
   },
   "file_extension": ".py",
   "mimetype": "text/x-python",
   "name": "python",
   "nbconvert_exporter": "python",
   "pygments_lexer": "ipython2",
   "version": "2.7.16"
  }
 },
 "nbformat": 4,
 "nbformat_minor": 2
}
